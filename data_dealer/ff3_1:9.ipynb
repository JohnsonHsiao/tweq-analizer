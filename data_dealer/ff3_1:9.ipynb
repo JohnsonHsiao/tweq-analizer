{
 "cells": [
  {
   "cell_type": "code",
   "execution_count": 1,
   "metadata": {},
   "outputs": [
    {
     "data": {
      "text/html": "<div>\n<style scoped>\n    .dataframe tbody tr th:only-of-type {\n        vertical-align: middle;\n    }\n\n    .dataframe tbody tr th {\n        vertical-align: top;\n    }\n\n    .dataframe thead th {\n        text-align: right;\n    }\n</style>\n<table border=\"1\" class=\"dataframe\">\n  <thead>\n    <tr style=\"text-align: right;\">\n      <th></th>\n      <th>Date</th>\n      <th>market</th>\n      <th>rf</th>\n      <th>SMB</th>\n      <th>HML</th>\n    </tr>\n  </thead>\n  <tbody>\n    <tr>\n      <th>0</th>\n      <td>2019-01-03</td>\n      <td>-0.006460</td>\n      <td>0.842</td>\n      <td>0.111343</td>\n      <td>-0.183098</td>\n    </tr>\n    <tr>\n      <th>1</th>\n      <td>2019-01-04</td>\n      <td>-0.011579</td>\n      <td>0.850</td>\n      <td>0.283376</td>\n      <td>-0.465596</td>\n    </tr>\n    <tr>\n      <th>2</th>\n      <td>2019-01-07</td>\n      <td>0.022147</td>\n      <td>0.870</td>\n      <td>-0.084096</td>\n      <td>0.457468</td>\n    </tr>\n    <tr>\n      <th>3</th>\n      <td>2019-01-08</td>\n      <td>-0.002784</td>\n      <td>0.880</td>\n      <td>0.068160</td>\n      <td>-0.082656</td>\n    </tr>\n    <tr>\n      <th>4</th>\n      <td>2019-01-09</td>\n      <td>0.018268</td>\n      <td>0.880</td>\n      <td>-0.098494</td>\n      <td>0.406240</td>\n    </tr>\n    <tr>\n      <th>...</th>\n      <td>...</td>\n      <td>...</td>\n      <td>...</td>\n      <td>...</td>\n      <td>...</td>\n    </tr>\n    <tr>\n      <th>951</th>\n      <td>2022-12-09</td>\n      <td>0.010471</td>\n      <td>1.284</td>\n      <td>-0.168422</td>\n      <td>0.346143</td>\n    </tr>\n    <tr>\n      <th>952</th>\n      <td>2022-12-12</td>\n      <td>-0.006313</td>\n      <td>1.295</td>\n      <td>0.095997</td>\n      <td>-0.284591</td>\n    </tr>\n    <tr>\n      <th>953</th>\n      <td>2022-12-13</td>\n      <td>-0.006134</td>\n      <td>1.290</td>\n      <td>0.012489</td>\n      <td>-0.194627</td>\n    </tr>\n    <tr>\n      <th>954</th>\n      <td>2022-12-14</td>\n      <td>0.014901</td>\n      <td>1.275</td>\n      <td>-0.014209</td>\n      <td>0.468954</td>\n    </tr>\n    <tr>\n      <th>955</th>\n      <td>2022-12-15</td>\n      <td>-0.000355</td>\n      <td>1.275</td>\n      <td>0.082550</td>\n      <td>-0.046106</td>\n    </tr>\n  </tbody>\n</table>\n<p>956 rows × 5 columns</p>\n</div>",
      "text/plain": "           Date    market     rf       SMB       HML\n0    2019-01-03 -0.006460  0.842  0.111343 -0.183098\n1    2019-01-04 -0.011579  0.850  0.283376 -0.465596\n2    2019-01-07  0.022147  0.870 -0.084096  0.457468\n3    2019-01-08 -0.002784  0.880  0.068160 -0.082656\n4    2019-01-09  0.018268  0.880 -0.098494  0.406240\n..          ...       ...    ...       ...       ...\n951  2022-12-09  0.010471  1.284 -0.168422  0.346143\n952  2022-12-12 -0.006313  1.295  0.095997 -0.284591\n953  2022-12-13 -0.006134  1.290  0.012489 -0.194627\n954  2022-12-14  0.014901  1.275 -0.014209  0.468954\n955  2022-12-15 -0.000355  1.275  0.082550 -0.046106\n\n[956 rows x 5 columns]"
     },
     "execution_count": 1,
     "metadata": {},
     "output_type": "execute_result"
    }
   ],
   "source": [
    "import pandas as pd\n",
    "import statsmodels.api as sm\n",
    "import numpy as np\n",
    "import matplotlib.pyplot as plt\n",
    "\n",
    "df1 = pd.read_csv('/Users/lofang/Desktop/python/csv files/ff_table.csv')\n",
    "ff_table = df1.dropna().reset_index(drop=True)\n",
    "ff_table"
   ]
  },
  {
   "cell_type": "code",
   "execution_count": 2,
   "metadata": {},
   "outputs": [
    {
     "data": {
      "text/html": "<div>\n<style scoped>\n    .dataframe tbody tr th:only-of-type {\n        vertical-align: middle;\n    }\n\n    .dataframe tbody tr th {\n        vertical-align: top;\n    }\n\n    .dataframe thead th {\n        text-align: right;\n    }\n</style>\n<table border=\"1\" class=\"dataframe\">\n  <thead>\n    <tr style=\"text-align: right;\">\n      <th></th>\n      <th>Date</th>\n      <th>market</th>\n      <th>rf</th>\n      <th>SMB</th>\n      <th>HML</th>\n    </tr>\n  </thead>\n  <tbody>\n    <tr>\n      <th>0</th>\n      <td>2019-01-03</td>\n      <td>-0.006460</td>\n      <td>0.00842</td>\n      <td>0.111343</td>\n      <td>-0.183098</td>\n    </tr>\n    <tr>\n      <th>1</th>\n      <td>2019-01-04</td>\n      <td>-0.011579</td>\n      <td>0.00850</td>\n      <td>0.283376</td>\n      <td>-0.465596</td>\n    </tr>\n    <tr>\n      <th>2</th>\n      <td>2019-01-07</td>\n      <td>0.022147</td>\n      <td>0.00870</td>\n      <td>-0.084096</td>\n      <td>0.457468</td>\n    </tr>\n    <tr>\n      <th>3</th>\n      <td>2019-01-08</td>\n      <td>-0.002784</td>\n      <td>0.00880</td>\n      <td>0.068160</td>\n      <td>-0.082656</td>\n    </tr>\n    <tr>\n      <th>4</th>\n      <td>2019-01-09</td>\n      <td>0.018268</td>\n      <td>0.00880</td>\n      <td>-0.098494</td>\n      <td>0.406240</td>\n    </tr>\n    <tr>\n      <th>...</th>\n      <td>...</td>\n      <td>...</td>\n      <td>...</td>\n      <td>...</td>\n      <td>...</td>\n    </tr>\n    <tr>\n      <th>951</th>\n      <td>2022-12-09</td>\n      <td>0.010471</td>\n      <td>0.01284</td>\n      <td>-0.168422</td>\n      <td>0.346143</td>\n    </tr>\n    <tr>\n      <th>952</th>\n      <td>2022-12-12</td>\n      <td>-0.006313</td>\n      <td>0.01295</td>\n      <td>0.095997</td>\n      <td>-0.284591</td>\n    </tr>\n    <tr>\n      <th>953</th>\n      <td>2022-12-13</td>\n      <td>-0.006134</td>\n      <td>0.01290</td>\n      <td>0.012489</td>\n      <td>-0.194627</td>\n    </tr>\n    <tr>\n      <th>954</th>\n      <td>2022-12-14</td>\n      <td>0.014901</td>\n      <td>0.01275</td>\n      <td>-0.014209</td>\n      <td>0.468954</td>\n    </tr>\n    <tr>\n      <th>955</th>\n      <td>2022-12-15</td>\n      <td>-0.000355</td>\n      <td>0.01275</td>\n      <td>0.082550</td>\n      <td>-0.046106</td>\n    </tr>\n  </tbody>\n</table>\n<p>956 rows × 5 columns</p>\n</div>",
      "text/plain": "           Date    market       rf       SMB       HML\n0    2019-01-03 -0.006460  0.00842  0.111343 -0.183098\n1    2019-01-04 -0.011579  0.00850  0.283376 -0.465596\n2    2019-01-07  0.022147  0.00870 -0.084096  0.457468\n3    2019-01-08 -0.002784  0.00880  0.068160 -0.082656\n4    2019-01-09  0.018268  0.00880 -0.098494  0.406240\n..          ...       ...      ...       ...       ...\n951  2022-12-09  0.010471  0.01284 -0.168422  0.346143\n952  2022-12-12 -0.006313  0.01295  0.095997 -0.284591\n953  2022-12-13 -0.006134  0.01290  0.012489 -0.194627\n954  2022-12-14  0.014901  0.01275 -0.014209  0.468954\n955  2022-12-15 -0.000355  0.01275  0.082550 -0.046106\n\n[956 rows x 5 columns]"
     },
     "execution_count": 2,
     "metadata": {},
     "output_type": "execute_result"
    }
   ],
   "source": [
    "ff_table['rf'] = ff_table['rf']*0.01\n",
    "ff_table"
   ]
  },
  {
   "cell_type": "code",
   "execution_count": 3,
   "metadata": {},
   "outputs": [
    {
     "data": {
      "text/html": "<div>\n<style scoped>\n    .dataframe tbody tr th:only-of-type {\n        vertical-align: middle;\n    }\n\n    .dataframe tbody tr th {\n        vertical-align: top;\n    }\n\n    .dataframe thead th {\n        text-align: right;\n    }\n</style>\n<table border=\"1\" class=\"dataframe\">\n  <thead>\n    <tr style=\"text-align: right;\">\n      <th></th>\n      <th>Date</th>\n      <th>Open</th>\n      <th>High</th>\n      <th>Low</th>\n      <th>Close</th>\n      <th>Adj Close</th>\n      <th>Volume</th>\n    </tr>\n  </thead>\n  <tbody>\n    <tr>\n      <th>0</th>\n      <td>2019-01-03</td>\n      <td>214.0</td>\n      <td>218.0</td>\n      <td>214.0</td>\n      <td>215.5</td>\n      <td>192.141556</td>\n      <td>34087620</td>\n    </tr>\n    <tr>\n      <th>1</th>\n      <td>2019-01-04</td>\n      <td>211.5</td>\n      <td>211.5</td>\n      <td>206.5</td>\n      <td>208.0</td>\n      <td>185.454483</td>\n      <td>65943521</td>\n    </tr>\n    <tr>\n      <th>2</th>\n      <td>2019-01-07</td>\n      <td>212.0</td>\n      <td>214.0</td>\n      <td>211.0</td>\n      <td>213.0</td>\n      <td>189.912552</td>\n      <td>35442176</td>\n    </tr>\n    <tr>\n      <th>3</th>\n      <td>2019-01-08</td>\n      <td>212.0</td>\n      <td>212.5</td>\n      <td>210.0</td>\n      <td>211.0</td>\n      <td>188.129288</td>\n      <td>22694481</td>\n    </tr>\n    <tr>\n      <th>4</th>\n      <td>2019-01-09</td>\n      <td>212.0</td>\n      <td>216.5</td>\n      <td>211.0</td>\n      <td>215.5</td>\n      <td>192.141556</td>\n      <td>46295446</td>\n    </tr>\n    <tr>\n      <th>...</th>\n      <td>...</td>\n      <td>...</td>\n      <td>...</td>\n      <td>...</td>\n      <td>...</td>\n      <td>...</td>\n      <td>...</td>\n    </tr>\n    <tr>\n      <th>958</th>\n      <td>2022-12-09</td>\n      <td>478.0</td>\n      <td>484.5</td>\n      <td>476.0</td>\n      <td>481.5</td>\n      <td>478.744293</td>\n      <td>25915337</td>\n    </tr>\n    <tr>\n      <th>959</th>\n      <td>2022-12-12</td>\n      <td>476.5</td>\n      <td>478.0</td>\n      <td>473.5</td>\n      <td>475.0</td>\n      <td>472.281494</td>\n      <td>20973334</td>\n    </tr>\n    <tr>\n      <th>960</th>\n      <td>2022-12-13</td>\n      <td>473.0</td>\n      <td>476.0</td>\n      <td>471.0</td>\n      <td>471.5</td>\n      <td>468.801514</td>\n      <td>33272826</td>\n    </tr>\n    <tr>\n      <th>961</th>\n      <td>2022-12-14</td>\n      <td>472.0</td>\n      <td>480.5</td>\n      <td>472.0</td>\n      <td>480.5</td>\n      <td>477.750000</td>\n      <td>30636639</td>\n    </tr>\n    <tr>\n      <th>962</th>\n      <td>2022-12-15</td>\n      <td>476.0</td>\n      <td>481.5</td>\n      <td>474.5</td>\n      <td>480.5</td>\n      <td>480.500000</td>\n      <td>24222008</td>\n    </tr>\n  </tbody>\n</table>\n<p>963 rows × 7 columns</p>\n</div>",
      "text/plain": "           Date   Open   High    Low  Close   Adj Close    Volume\n0    2019-01-03  214.0  218.0  214.0  215.5  192.141556  34087620\n1    2019-01-04  211.5  211.5  206.5  208.0  185.454483  65943521\n2    2019-01-07  212.0  214.0  211.0  213.0  189.912552  35442176\n3    2019-01-08  212.0  212.5  210.0  211.0  188.129288  22694481\n4    2019-01-09  212.0  216.5  211.0  215.5  192.141556  46295446\n..          ...    ...    ...    ...    ...         ...       ...\n958  2022-12-09  478.0  484.5  476.0  481.5  478.744293  25915337\n959  2022-12-12  476.5  478.0  473.5  475.0  472.281494  20973334\n960  2022-12-13  473.0  476.0  471.0  471.5  468.801514  33272826\n961  2022-12-14  472.0  480.5  472.0  480.5  477.750000  30636639\n962  2022-12-15  476.0  481.5  474.5  480.5  480.500000  24222008\n\n[963 rows x 7 columns]"
     },
     "execution_count": 3,
     "metadata": {},
     "output_type": "execute_result"
    }
   ],
   "source": [
    "tsmc = pd.read_csv('/Users/lofang/Desktop/python/csv files/2330.TW.csv')\n",
    "tsmc.dropna().reset_index(drop=True)\n",
    "tsmc"
   ]
  },
  {
   "cell_type": "code",
   "execution_count": 4,
   "metadata": {},
   "outputs": [
    {
     "data": {
      "text/html": "<div>\n<style scoped>\n    .dataframe tbody tr th:only-of-type {\n        vertical-align: middle;\n    }\n\n    .dataframe tbody tr th {\n        vertical-align: top;\n    }\n\n    .dataframe thead th {\n        text-align: right;\n    }\n</style>\n<table border=\"1\" class=\"dataframe\">\n  <thead>\n    <tr style=\"text-align: right;\">\n      <th></th>\n      <th>Date</th>\n      <th>Open</th>\n      <th>High</th>\n      <th>Low</th>\n      <th>Close</th>\n      <th>Adj Close</th>\n      <th>Volume</th>\n      <th>Daily_Return</th>\n    </tr>\n  </thead>\n  <tbody>\n    <tr>\n      <th>0</th>\n      <td>2019-01-03</td>\n      <td>214.0</td>\n      <td>218.0</td>\n      <td>214.0</td>\n      <td>215.5</td>\n      <td>192.141556</td>\n      <td>34087620</td>\n      <td>NaN</td>\n    </tr>\n    <tr>\n      <th>1</th>\n      <td>2019-01-04</td>\n      <td>211.5</td>\n      <td>211.5</td>\n      <td>206.5</td>\n      <td>208.0</td>\n      <td>185.454483</td>\n      <td>65943521</td>\n      <td>-0.034803</td>\n    </tr>\n    <tr>\n      <th>2</th>\n      <td>2019-01-07</td>\n      <td>212.0</td>\n      <td>214.0</td>\n      <td>211.0</td>\n      <td>213.0</td>\n      <td>189.912552</td>\n      <td>35442176</td>\n      <td>0.024039</td>\n    </tr>\n    <tr>\n      <th>3</th>\n      <td>2019-01-08</td>\n      <td>212.0</td>\n      <td>212.5</td>\n      <td>210.0</td>\n      <td>211.0</td>\n      <td>188.129288</td>\n      <td>22694481</td>\n      <td>-0.009390</td>\n    </tr>\n    <tr>\n      <th>4</th>\n      <td>2019-01-09</td>\n      <td>212.0</td>\n      <td>216.5</td>\n      <td>211.0</td>\n      <td>215.5</td>\n      <td>192.141556</td>\n      <td>46295446</td>\n      <td>0.021327</td>\n    </tr>\n    <tr>\n      <th>...</th>\n      <td>...</td>\n      <td>...</td>\n      <td>...</td>\n      <td>...</td>\n      <td>...</td>\n      <td>...</td>\n      <td>...</td>\n      <td>...</td>\n    </tr>\n    <tr>\n      <th>958</th>\n      <td>2022-12-09</td>\n      <td>478.0</td>\n      <td>484.5</td>\n      <td>476.0</td>\n      <td>481.5</td>\n      <td>478.744293</td>\n      <td>25915337</td>\n      <td>0.021209</td>\n    </tr>\n    <tr>\n      <th>959</th>\n      <td>2022-12-12</td>\n      <td>476.5</td>\n      <td>478.0</td>\n      <td>473.5</td>\n      <td>475.0</td>\n      <td>472.281494</td>\n      <td>20973334</td>\n      <td>-0.013499</td>\n    </tr>\n    <tr>\n      <th>960</th>\n      <td>2022-12-13</td>\n      <td>473.0</td>\n      <td>476.0</td>\n      <td>471.0</td>\n      <td>471.5</td>\n      <td>468.801514</td>\n      <td>33272826</td>\n      <td>-0.007368</td>\n    </tr>\n    <tr>\n      <th>961</th>\n      <td>2022-12-14</td>\n      <td>472.0</td>\n      <td>480.5</td>\n      <td>472.0</td>\n      <td>480.5</td>\n      <td>477.750000</td>\n      <td>30636639</td>\n      <td>0.019088</td>\n    </tr>\n    <tr>\n      <th>962</th>\n      <td>2022-12-15</td>\n      <td>476.0</td>\n      <td>481.5</td>\n      <td>474.5</td>\n      <td>480.5</td>\n      <td>480.500000</td>\n      <td>24222008</td>\n      <td>0.005756</td>\n    </tr>\n  </tbody>\n</table>\n<p>963 rows × 8 columns</p>\n</div>",
      "text/plain": "           Date   Open   High    Low  Close   Adj Close    Volume  \\\n0    2019-01-03  214.0  218.0  214.0  215.5  192.141556  34087620   \n1    2019-01-04  211.5  211.5  206.5  208.0  185.454483  65943521   \n2    2019-01-07  212.0  214.0  211.0  213.0  189.912552  35442176   \n3    2019-01-08  212.0  212.5  210.0  211.0  188.129288  22694481   \n4    2019-01-09  212.0  216.5  211.0  215.5  192.141556  46295446   \n..          ...    ...    ...    ...    ...         ...       ...   \n958  2022-12-09  478.0  484.5  476.0  481.5  478.744293  25915337   \n959  2022-12-12  476.5  478.0  473.5  475.0  472.281494  20973334   \n960  2022-12-13  473.0  476.0  471.0  471.5  468.801514  33272826   \n961  2022-12-14  472.0  480.5  472.0  480.5  477.750000  30636639   \n962  2022-12-15  476.0  481.5  474.5  480.5  480.500000  24222008   \n\n     Daily_Return  \n0             NaN  \n1       -0.034803  \n2        0.024039  \n3       -0.009390  \n4        0.021327  \n..            ...  \n958      0.021209  \n959     -0.013499  \n960     -0.007368  \n961      0.019088  \n962      0.005756  \n\n[963 rows x 8 columns]"
     },
     "execution_count": 4,
     "metadata": {},
     "output_type": "execute_result"
    }
   ],
   "source": [
    "tsmc['Daily_Return'] = tsmc['Adj Close'].pct_change().dropna()\n",
    "tsmc"
   ]
  },
  {
   "cell_type": "code",
   "execution_count": 5,
   "metadata": {},
   "outputs": [
    {
     "data": {
      "text/html": "<div>\n<style scoped>\n    .dataframe tbody tr th:only-of-type {\n        vertical-align: middle;\n    }\n\n    .dataframe tbody tr th {\n        vertical-align: top;\n    }\n\n    .dataframe thead th {\n        text-align: right;\n    }\n</style>\n<table border=\"1\" class=\"dataframe\">\n  <thead>\n    <tr style=\"text-align: right;\">\n      <th></th>\n      <th>Date</th>\n      <th>market</th>\n      <th>rf</th>\n      <th>SMB</th>\n      <th>HML</th>\n      <th>Open</th>\n      <th>High</th>\n      <th>Low</th>\n      <th>Close</th>\n      <th>Adj Close</th>\n      <th>Volume</th>\n      <th>Daily_Return</th>\n    </tr>\n  </thead>\n  <tbody>\n    <tr>\n      <th>0</th>\n      <td>2019-01-03</td>\n      <td>-0.006460</td>\n      <td>0.00842</td>\n      <td>0.111343</td>\n      <td>-0.183098</td>\n      <td>214.0</td>\n      <td>218.0</td>\n      <td>214.0</td>\n      <td>215.5</td>\n      <td>192.141556</td>\n      <td>34087620</td>\n      <td>NaN</td>\n    </tr>\n    <tr>\n      <th>1</th>\n      <td>2019-01-04</td>\n      <td>-0.011579</td>\n      <td>0.00850</td>\n      <td>0.283376</td>\n      <td>-0.465596</td>\n      <td>211.5</td>\n      <td>211.5</td>\n      <td>206.5</td>\n      <td>208.0</td>\n      <td>185.454483</td>\n      <td>65943521</td>\n      <td>-0.034803</td>\n    </tr>\n    <tr>\n      <th>2</th>\n      <td>2019-01-07</td>\n      <td>0.022147</td>\n      <td>0.00870</td>\n      <td>-0.084096</td>\n      <td>0.457468</td>\n      <td>212.0</td>\n      <td>214.0</td>\n      <td>211.0</td>\n      <td>213.0</td>\n      <td>189.912552</td>\n      <td>35442176</td>\n      <td>0.024039</td>\n    </tr>\n    <tr>\n      <th>3</th>\n      <td>2019-01-08</td>\n      <td>-0.002784</td>\n      <td>0.00880</td>\n      <td>0.068160</td>\n      <td>-0.082656</td>\n      <td>212.0</td>\n      <td>212.5</td>\n      <td>210.0</td>\n      <td>211.0</td>\n      <td>188.129288</td>\n      <td>22694481</td>\n      <td>-0.009390</td>\n    </tr>\n    <tr>\n      <th>4</th>\n      <td>2019-01-09</td>\n      <td>0.018268</td>\n      <td>0.00880</td>\n      <td>-0.098494</td>\n      <td>0.406240</td>\n      <td>212.0</td>\n      <td>216.5</td>\n      <td>211.0</td>\n      <td>215.5</td>\n      <td>192.141556</td>\n      <td>46295446</td>\n      <td>0.021327</td>\n    </tr>\n    <tr>\n      <th>...</th>\n      <td>...</td>\n      <td>...</td>\n      <td>...</td>\n      <td>...</td>\n      <td>...</td>\n      <td>...</td>\n      <td>...</td>\n      <td>...</td>\n      <td>...</td>\n      <td>...</td>\n      <td>...</td>\n      <td>...</td>\n    </tr>\n    <tr>\n      <th>951</th>\n      <td>2022-12-09</td>\n      <td>0.010471</td>\n      <td>0.01284</td>\n      <td>-0.168422</td>\n      <td>0.346143</td>\n      <td>478.0</td>\n      <td>484.5</td>\n      <td>476.0</td>\n      <td>481.5</td>\n      <td>478.744293</td>\n      <td>25915337</td>\n      <td>0.021209</td>\n    </tr>\n    <tr>\n      <th>952</th>\n      <td>2022-12-12</td>\n      <td>-0.006313</td>\n      <td>0.01295</td>\n      <td>0.095997</td>\n      <td>-0.284591</td>\n      <td>476.5</td>\n      <td>478.0</td>\n      <td>473.5</td>\n      <td>475.0</td>\n      <td>472.281494</td>\n      <td>20973334</td>\n      <td>-0.013499</td>\n    </tr>\n    <tr>\n      <th>953</th>\n      <td>2022-12-13</td>\n      <td>-0.006134</td>\n      <td>0.01290</td>\n      <td>0.012489</td>\n      <td>-0.194627</td>\n      <td>473.0</td>\n      <td>476.0</td>\n      <td>471.0</td>\n      <td>471.5</td>\n      <td>468.801514</td>\n      <td>33272826</td>\n      <td>-0.007368</td>\n    </tr>\n    <tr>\n      <th>954</th>\n      <td>2022-12-14</td>\n      <td>0.014901</td>\n      <td>0.01275</td>\n      <td>-0.014209</td>\n      <td>0.468954</td>\n      <td>472.0</td>\n      <td>480.5</td>\n      <td>472.0</td>\n      <td>480.5</td>\n      <td>477.750000</td>\n      <td>30636639</td>\n      <td>0.019088</td>\n    </tr>\n    <tr>\n      <th>955</th>\n      <td>2022-12-15</td>\n      <td>-0.000355</td>\n      <td>0.01275</td>\n      <td>0.082550</td>\n      <td>-0.046106</td>\n      <td>476.0</td>\n      <td>481.5</td>\n      <td>474.5</td>\n      <td>480.5</td>\n      <td>480.500000</td>\n      <td>24222008</td>\n      <td>0.005756</td>\n    </tr>\n  </tbody>\n</table>\n<p>956 rows × 12 columns</p>\n</div>",
      "text/plain": "           Date    market       rf       SMB       HML   Open   High    Low  \\\n0    2019-01-03 -0.006460  0.00842  0.111343 -0.183098  214.0  218.0  214.0   \n1    2019-01-04 -0.011579  0.00850  0.283376 -0.465596  211.5  211.5  206.5   \n2    2019-01-07  0.022147  0.00870 -0.084096  0.457468  212.0  214.0  211.0   \n3    2019-01-08 -0.002784  0.00880  0.068160 -0.082656  212.0  212.5  210.0   \n4    2019-01-09  0.018268  0.00880 -0.098494  0.406240  212.0  216.5  211.0   \n..          ...       ...      ...       ...       ...    ...    ...    ...   \n951  2022-12-09  0.010471  0.01284 -0.168422  0.346143  478.0  484.5  476.0   \n952  2022-12-12 -0.006313  0.01295  0.095997 -0.284591  476.5  478.0  473.5   \n953  2022-12-13 -0.006134  0.01290  0.012489 -0.194627  473.0  476.0  471.0   \n954  2022-12-14  0.014901  0.01275 -0.014209  0.468954  472.0  480.5  472.0   \n955  2022-12-15 -0.000355  0.01275  0.082550 -0.046106  476.0  481.5  474.5   \n\n     Close   Adj Close    Volume  Daily_Return  \n0    215.5  192.141556  34087620           NaN  \n1    208.0  185.454483  65943521     -0.034803  \n2    213.0  189.912552  35442176      0.024039  \n3    211.0  188.129288  22694481     -0.009390  \n4    215.5  192.141556  46295446      0.021327  \n..     ...         ...       ...           ...  \n951  481.5  478.744293  25915337      0.021209  \n952  475.0  472.281494  20973334     -0.013499  \n953  471.5  468.801514  33272826     -0.007368  \n954  480.5  477.750000  30636639      0.019088  \n955  480.5  480.500000  24222008      0.005756  \n\n[956 rows x 12 columns]"
     },
     "execution_count": 5,
     "metadata": {},
     "output_type": "execute_result"
    }
   ],
   "source": [
    "joint = ff_table.merge(tsmc,on = ['Date'], how = 'left')\n",
    "joint"
   ]
  },
  {
   "cell_type": "code",
   "execution_count": 6,
   "metadata": {},
   "outputs": [
    {
     "data": {
      "text/html": "<div>\n<style scoped>\n    .dataframe tbody tr th:only-of-type {\n        vertical-align: middle;\n    }\n\n    .dataframe tbody tr th {\n        vertical-align: top;\n    }\n\n    .dataframe thead th {\n        text-align: right;\n    }\n</style>\n<table border=\"1\" class=\"dataframe\">\n  <thead>\n    <tr style=\"text-align: right;\">\n      <th></th>\n      <th>Date</th>\n      <th>market</th>\n      <th>rf</th>\n      <th>SMB</th>\n      <th>HML</th>\n      <th>Open</th>\n      <th>High</th>\n      <th>Low</th>\n      <th>Close</th>\n      <th>Adj Close</th>\n      <th>Volume</th>\n      <th>Daily_Return</th>\n      <th>mkt-rf</th>\n    </tr>\n  </thead>\n  <tbody>\n    <tr>\n      <th>1</th>\n      <td>2019-01-04</td>\n      <td>-0.011579</td>\n      <td>0.00850</td>\n      <td>0.283376</td>\n      <td>-0.465596</td>\n      <td>211.5</td>\n      <td>211.5</td>\n      <td>206.5</td>\n      <td>208.0</td>\n      <td>185.454483</td>\n      <td>65943521</td>\n      <td>-0.034803</td>\n      <td>-0.020079</td>\n    </tr>\n    <tr>\n      <th>2</th>\n      <td>2019-01-07</td>\n      <td>0.022147</td>\n      <td>0.00870</td>\n      <td>-0.084096</td>\n      <td>0.457468</td>\n      <td>212.0</td>\n      <td>214.0</td>\n      <td>211.0</td>\n      <td>213.0</td>\n      <td>189.912552</td>\n      <td>35442176</td>\n      <td>0.024039</td>\n      <td>0.013447</td>\n    </tr>\n    <tr>\n      <th>3</th>\n      <td>2019-01-08</td>\n      <td>-0.002784</td>\n      <td>0.00880</td>\n      <td>0.068160</td>\n      <td>-0.082656</td>\n      <td>212.0</td>\n      <td>212.5</td>\n      <td>210.0</td>\n      <td>211.0</td>\n      <td>188.129288</td>\n      <td>22694481</td>\n      <td>-0.009390</td>\n      <td>-0.011584</td>\n    </tr>\n    <tr>\n      <th>4</th>\n      <td>2019-01-09</td>\n      <td>0.018268</td>\n      <td>0.00880</td>\n      <td>-0.098494</td>\n      <td>0.406240</td>\n      <td>212.0</td>\n      <td>216.5</td>\n      <td>211.0</td>\n      <td>215.5</td>\n      <td>192.141556</td>\n      <td>46295446</td>\n      <td>0.021327</td>\n      <td>0.009468</td>\n    </tr>\n    <tr>\n      <th>5</th>\n      <td>2019-01-10</td>\n      <td>-0.001809</td>\n      <td>0.00880</td>\n      <td>0.018098</td>\n      <td>0.029425</td>\n      <td>216.0</td>\n      <td>216.5</td>\n      <td>214.5</td>\n      <td>216.0</td>\n      <td>192.587372</td>\n      <td>20754593</td>\n      <td>0.002320</td>\n      <td>-0.010609</td>\n    </tr>\n    <tr>\n      <th>...</th>\n      <td>...</td>\n      <td>...</td>\n      <td>...</td>\n      <td>...</td>\n      <td>...</td>\n      <td>...</td>\n      <td>...</td>\n      <td>...</td>\n      <td>...</td>\n      <td>...</td>\n      <td>...</td>\n      <td>...</td>\n      <td>...</td>\n    </tr>\n    <tr>\n      <th>951</th>\n      <td>2022-12-09</td>\n      <td>0.010471</td>\n      <td>0.01284</td>\n      <td>-0.168422</td>\n      <td>0.346143</td>\n      <td>478.0</td>\n      <td>484.5</td>\n      <td>476.0</td>\n      <td>481.5</td>\n      <td>478.744293</td>\n      <td>25915337</td>\n      <td>0.021209</td>\n      <td>-0.002369</td>\n    </tr>\n    <tr>\n      <th>952</th>\n      <td>2022-12-12</td>\n      <td>-0.006313</td>\n      <td>0.01295</td>\n      <td>0.095997</td>\n      <td>-0.284591</td>\n      <td>476.5</td>\n      <td>478.0</td>\n      <td>473.5</td>\n      <td>475.0</td>\n      <td>472.281494</td>\n      <td>20973334</td>\n      <td>-0.013499</td>\n      <td>-0.019263</td>\n    </tr>\n    <tr>\n      <th>953</th>\n      <td>2022-12-13</td>\n      <td>-0.006134</td>\n      <td>0.01290</td>\n      <td>0.012489</td>\n      <td>-0.194627</td>\n      <td>473.0</td>\n      <td>476.0</td>\n      <td>471.0</td>\n      <td>471.5</td>\n      <td>468.801514</td>\n      <td>33272826</td>\n      <td>-0.007368</td>\n      <td>-0.019034</td>\n    </tr>\n    <tr>\n      <th>954</th>\n      <td>2022-12-14</td>\n      <td>0.014901</td>\n      <td>0.01275</td>\n      <td>-0.014209</td>\n      <td>0.468954</td>\n      <td>472.0</td>\n      <td>480.5</td>\n      <td>472.0</td>\n      <td>480.5</td>\n      <td>477.750000</td>\n      <td>30636639</td>\n      <td>0.019088</td>\n      <td>0.002151</td>\n    </tr>\n    <tr>\n      <th>955</th>\n      <td>2022-12-15</td>\n      <td>-0.000355</td>\n      <td>0.01275</td>\n      <td>0.082550</td>\n      <td>-0.046106</td>\n      <td>476.0</td>\n      <td>481.5</td>\n      <td>474.5</td>\n      <td>480.5</td>\n      <td>480.500000</td>\n      <td>24222008</td>\n      <td>0.005756</td>\n      <td>-0.013105</td>\n    </tr>\n  </tbody>\n</table>\n<p>955 rows × 13 columns</p>\n</div>",
      "text/plain": "           Date    market       rf       SMB       HML   Open   High    Low  \\\n1    2019-01-04 -0.011579  0.00850  0.283376 -0.465596  211.5  211.5  206.5   \n2    2019-01-07  0.022147  0.00870 -0.084096  0.457468  212.0  214.0  211.0   \n3    2019-01-08 -0.002784  0.00880  0.068160 -0.082656  212.0  212.5  210.0   \n4    2019-01-09  0.018268  0.00880 -0.098494  0.406240  212.0  216.5  211.0   \n5    2019-01-10 -0.001809  0.00880  0.018098  0.029425  216.0  216.5  214.5   \n..          ...       ...      ...       ...       ...    ...    ...    ...   \n951  2022-12-09  0.010471  0.01284 -0.168422  0.346143  478.0  484.5  476.0   \n952  2022-12-12 -0.006313  0.01295  0.095997 -0.284591  476.5  478.0  473.5   \n953  2022-12-13 -0.006134  0.01290  0.012489 -0.194627  473.0  476.0  471.0   \n954  2022-12-14  0.014901  0.01275 -0.014209  0.468954  472.0  480.5  472.0   \n955  2022-12-15 -0.000355  0.01275  0.082550 -0.046106  476.0  481.5  474.5   \n\n     Close   Adj Close    Volume  Daily_Return    mkt-rf  \n1    208.0  185.454483  65943521     -0.034803 -0.020079  \n2    213.0  189.912552  35442176      0.024039  0.013447  \n3    211.0  188.129288  22694481     -0.009390 -0.011584  \n4    215.5  192.141556  46295446      0.021327  0.009468  \n5    216.0  192.587372  20754593      0.002320 -0.010609  \n..     ...         ...       ...           ...       ...  \n951  481.5  478.744293  25915337      0.021209 -0.002369  \n952  475.0  472.281494  20973334     -0.013499 -0.019263  \n953  471.5  468.801514  33272826     -0.007368 -0.019034  \n954  480.5  477.750000  30636639      0.019088  0.002151  \n955  480.5  480.500000  24222008      0.005756 -0.013105  \n\n[955 rows x 13 columns]"
     },
     "execution_count": 6,
     "metadata": {},
     "output_type": "execute_result"
    }
   ],
   "source": [
    "joint['mkt-rf'] = joint['market'] - joint['rf']\n",
    "joint = joint.drop(index = 0)\n",
    "joint"
   ]
  },
  {
   "cell_type": "code",
   "execution_count": 7,
   "metadata": {},
   "outputs": [
    {
     "name": "stdout",
     "output_type": "stream",
     "text": [
      "                            OLS Regression Results                            \n",
      "==============================================================================\n",
      "Dep. Variable:                      y   R-squared:                       0.947\n",
      "Model:                            OLS   Adj. R-squared:                  0.947\n",
      "Method:                 Least Squares   F-statistic:                     5714.\n",
      "Date:                Mon, 09 Jan 2023   Prob (F-statistic):               0.00\n",
      "Time:                        13:44:50   Log-Likelihood:                 3898.3\n",
      "No. Observations:                 955   AIC:                            -7789.\n",
      "Df Residuals:                     951   BIC:                            -7769.\n",
      "Df Model:                           3                                         \n",
      "Covariance Type:            nonrobust                                         \n",
      "==============================================================================\n",
      "                 coef    std err          t      P>|t|      [0.025      0.975]\n",
      "------------------------------------------------------------------------------\n",
      "const         -0.0011      0.000     -5.283      0.000      -0.002      -0.001\n",
      "mkt-rf         0.7788      0.023     34.352      0.000       0.734       0.823\n",
      "SMB           -0.0385      0.001    -28.874      0.000      -0.041      -0.036\n",
      "HML            0.0175      0.001     15.746      0.000       0.015       0.020\n",
      "==============================================================================\n",
      "Omnibus:                     1009.143   Durbin-Watson:                   1.919\n",
      "Prob(Omnibus):                  0.000   Jarque-Bera (JB):           199150.466\n",
      "Skew:                           4.535   Prob(JB):                         0.00\n",
      "Kurtosis:                      73.161   Cond. No.                         172.\n",
      "==============================================================================\n",
      "\n",
      "Notes:\n",
      "[1] Standard Errors assume that the covariance matrix of the errors is correctly specified.\n"
     ]
    }
   ],
   "source": [
    "X = joint[['mkt-rf', 'SMB', 'HML']]\n",
    "y = joint['Daily_Return'] - joint['rf']\n",
    "X = sm.add_constant(X)\n",
    "ff_model = sm.OLS(y, X).fit()\n",
    "print(ff_model.summary())\n",
    "intercept, b1, b2, b3 = ff_model.params"
   ]
  },
  {
   "cell_type": "code",
   "execution_count": 8,
   "metadata": {},
   "outputs": [],
   "source": [
    "def factor(t):\n",
    "    X = joint[['mkt-rf', 'SMB', 'HML']].head(t+120)\n",
    "    y = joint['Daily_Return'].head(t+120) - joint['rf'].head(t+120)\n",
    "    X = sm.add_constant(X)\n",
    "    ff_model = sm.OLS(y, X).fit()\n",
    "    # print(ff_model.summary())\n",
    "    intercept, b1, b2, b3 = ff_model.params\n",
    "    c = [intercept, b1, b2, b3]\n",
    "    return c\n",
    "    #print(c)\n",
    "# factor(0)"
   ]
  },
  {
   "cell_type": "code",
   "execution_count": 9,
   "metadata": {},
   "outputs": [
    {
     "data": {
      "text/html": "<div>\n<style scoped>\n    .dataframe tbody tr th:only-of-type {\n        vertical-align: middle;\n    }\n\n    .dataframe tbody tr th {\n        vertical-align: top;\n    }\n\n    .dataframe thead th {\n        text-align: right;\n    }\n</style>\n<table border=\"1\" class=\"dataframe\">\n  <thead>\n    <tr style=\"text-align: right;\">\n      <th></th>\n      <th>const</th>\n      <th>mkt-rf</th>\n      <th>SMB</th>\n      <th>HML</th>\n    </tr>\n  </thead>\n  <tbody>\n    <tr>\n      <th>1</th>\n      <td>-0.004145</td>\n      <td>0.436085</td>\n      <td>-0.038238</td>\n      <td>0.031277</td>\n    </tr>\n    <tr>\n      <th>2</th>\n      <td>-0.004138</td>\n      <td>0.436338</td>\n      <td>-0.038275</td>\n      <td>0.031273</td>\n    </tr>\n    <tr>\n      <th>3</th>\n      <td>-0.004111</td>\n      <td>0.436080</td>\n      <td>-0.038440</td>\n      <td>0.031199</td>\n    </tr>\n    <tr>\n      <th>4</th>\n      <td>-0.004115</td>\n      <td>0.434405</td>\n      <td>-0.038428</td>\n      <td>0.031288</td>\n    </tr>\n    <tr>\n      <th>5</th>\n      <td>-0.003998</td>\n      <td>0.443928</td>\n      <td>-0.038947</td>\n      <td>0.030837</td>\n    </tr>\n    <tr>\n      <th>...</th>\n      <td>...</td>\n      <td>...</td>\n      <td>...</td>\n      <td>...</td>\n    </tr>\n    <tr>\n      <th>832</th>\n      <td>-0.001117</td>\n      <td>0.779359</td>\n      <td>-0.038485</td>\n      <td>0.017495</td>\n    </tr>\n    <tr>\n      <th>833</th>\n      <td>-0.001118</td>\n      <td>0.779515</td>\n      <td>-0.038490</td>\n      <td>0.017494</td>\n    </tr>\n    <tr>\n      <th>834</th>\n      <td>-0.001118</td>\n      <td>0.779567</td>\n      <td>-0.038490</td>\n      <td>0.017494</td>\n    </tr>\n    <tr>\n      <th>835</th>\n      <td>-0.001114</td>\n      <td>0.780479</td>\n      <td>-0.038547</td>\n      <td>0.017431</td>\n    </tr>\n    <tr>\n      <th>836</th>\n      <td>-0.001118</td>\n      <td>0.778798</td>\n      <td>-0.038456</td>\n      <td>0.017508</td>\n    </tr>\n  </tbody>\n</table>\n<p>836 rows × 4 columns</p>\n</div>",
      "text/plain": "       const     mkt-rf       SMB       HML\n1   -0.004145  0.436085 -0.038238  0.031277\n2   -0.004138  0.436338 -0.038275  0.031273\n3   -0.004111  0.436080 -0.038440  0.031199\n4   -0.004115  0.434405 -0.038428  0.031288\n5   -0.003998  0.443928 -0.038947  0.030837\n..        ...       ...       ...       ...\n832 -0.001117  0.779359 -0.038485  0.017495\n833 -0.001118  0.779515 -0.038490  0.017494\n834 -0.001118  0.779567 -0.038490  0.017494\n835 -0.001114  0.780479 -0.038547  0.017431\n836 -0.001118  0.778798 -0.038456  0.017508\n\n[836 rows x 4 columns]"
     },
     "execution_count": 9,
     "metadata": {},
     "output_type": "execute_result"
    }
   ],
   "source": [
    "coefficient = []\n",
    "for i in range(0,836,1):\n",
    "    coefficient.append(factor(i))\n",
    "c_table = pd.DataFrame(coefficient, columns = ['const ','mkt-rf','SMB','HML'])\n",
    "c_table.index = c_table.index + 1\n",
    "c_table"
   ]
  },
  {
   "cell_type": "code",
   "execution_count": 10,
   "metadata": {},
   "outputs": [],
   "source": [
    "def rf(t):\n",
    "    return joint['rf'].loc[t]\n",
    "def market_premium(t):\n",
    "    return joint['mkt-rf'].loc[t]\n",
    "def size_premium(t):\n",
    "    return joint['SMB'].loc[t]\n",
    "def value_premium(t):\n",
    "    return joint['HML'].loc[t]"
   ]
  },
  {
   "cell_type": "code",
   "execution_count": 11,
   "metadata": {},
   "outputs": [],
   "source": [
    "def get_const(t):\n",
    "    return c_table['const'].loc[t]\n",
    "def get_mkt(t):\n",
    "    return c_table['mkt-rf'].loc[t]\n",
    "def get_SMB(t):\n",
    "    return c_table['SMB'].loc[t]\n",
    "def get_HML(t):\n",
    "    return c_table['HML'].loc[t]"
   ]
  },
  {
   "cell_type": "code",
   "execution_count": 29,
   "metadata": {},
   "outputs": [],
   "source": [
    "def er(t):\n",
    "    return rf(t-10) + get_mkt(t-10) * market_premium(t-10) + get_SMB(t-10) * size_premium(t-10) + get_HML(t-10) * value_premium(t-10)"
   ]
  },
  {
   "cell_type": "code",
   "execution_count": 30,
   "metadata": {},
   "outputs": [],
   "source": [
    "# er(121)"
   ]
  },
  {
   "cell_type": "code",
   "execution_count": 32,
   "metadata": {},
   "outputs": [
    {
     "data": {
      "text/html": "<div>\n<style scoped>\n    .dataframe tbody tr th:only-of-type {\n        vertical-align: middle;\n    }\n\n    .dataframe tbody tr th {\n        vertical-align: top;\n    }\n\n    .dataframe thead th {\n        text-align: right;\n    }\n</style>\n<table border=\"1\" class=\"dataframe\">\n  <thead>\n    <tr style=\"text-align: right;\">\n      <th></th>\n      <th>ER</th>\n    </tr>\n  </thead>\n  <tbody>\n    <tr>\n      <th>1</th>\n      <td>-0.025654</td>\n    </tr>\n    <tr>\n      <th>2</th>\n      <td>0.032092</td>\n    </tr>\n    <tr>\n      <th>3</th>\n      <td>-0.001450</td>\n    </tr>\n    <tr>\n      <th>4</th>\n      <td>0.029408</td>\n    </tr>\n    <tr>\n      <th>5</th>\n      <td>0.004293</td>\n    </tr>\n    <tr>\n      <th>...</th>\n      <td>...</td>\n    </tr>\n    <tr>\n      <th>822</th>\n      <td>-0.001188</td>\n    </tr>\n    <tr>\n      <th>823</th>\n      <td>-0.013611</td>\n    </tr>\n    <tr>\n      <th>824</th>\n      <td>-0.025343</td>\n    </tr>\n    <tr>\n      <th>825</th>\n      <td>-0.070416</td>\n    </tr>\n    <tr>\n      <th>826</th>\n      <td>-0.003312</td>\n    </tr>\n  </tbody>\n</table>\n<p>826 rows × 1 columns</p>\n</div>",
      "text/plain": "           ER\n1   -0.025654\n2    0.032092\n3   -0.001450\n4    0.029408\n5    0.004293\n..        ...\n822 -0.001188\n823 -0.013611\n824 -0.025343\n825 -0.070416\n826 -0.003312\n\n[826 rows x 1 columns]"
     },
     "execution_count": 32,
     "metadata": {},
     "output_type": "execute_result"
    }
   ],
   "source": [
    "expected_daily_return = []\n",
    "abnormal = []\n",
    "for i in range(11,837,1):\n",
    "    a = er(i)\n",
    "    expected_daily_return.append(a)\n",
    "df4 = pd.DataFrame (expected_daily_return, columns = ['ER'])\n",
    "df4.index = df4.index + 1\n",
    "df4\n"
   ]
  },
  {
   "cell_type": "code",
   "execution_count": 33,
   "metadata": {},
   "outputs": [
    {
     "data": {
      "text/html": "<div>\n<style scoped>\n    .dataframe tbody tr th:only-of-type {\n        vertical-align: middle;\n    }\n\n    .dataframe tbody tr th {\n        vertical-align: top;\n    }\n\n    .dataframe thead th {\n        text-align: right;\n    }\n</style>\n<table border=\"1\" class=\"dataframe\">\n  <thead>\n    <tr style=\"text-align: right;\">\n      <th></th>\n      <th>Date</th>\n      <th>market</th>\n      <th>rf</th>\n      <th>SMB</th>\n      <th>HML</th>\n      <th>Open</th>\n      <th>High</th>\n      <th>Low</th>\n      <th>Close</th>\n      <th>Adj Close</th>\n      <th>Volume</th>\n      <th>Daily_Return</th>\n      <th>mkt-rf</th>\n    </tr>\n  </thead>\n  <tbody>\n    <tr>\n      <th>1</th>\n      <td>2019-07-24</td>\n      <td>-0.001050</td>\n      <td>0.00675</td>\n      <td>-0.022355</td>\n      <td>0.071122</td>\n      <td>266.5</td>\n      <td>266.5</td>\n      <td>263.0</td>\n      <td>265.0</td>\n      <td>244.135666</td>\n      <td>23734039</td>\n      <td>0.003788</td>\n      <td>-0.007800</td>\n    </tr>\n    <tr>\n      <th>2</th>\n      <td>2019-07-25</td>\n      <td>0.000517</td>\n      <td>0.00674</td>\n      <td>0.142433</td>\n      <td>0.051578</td>\n      <td>264.0</td>\n      <td>265.0</td>\n      <td>261.5</td>\n      <td>265.0</td>\n      <td>244.135666</td>\n      <td>30433545</td>\n      <td>0.000000</td>\n      <td>-0.006223</td>\n    </tr>\n    <tr>\n      <th>3</th>\n      <td>2019-07-26</td>\n      <td>-0.004518</td>\n      <td>0.00690</td>\n      <td>0.144194</td>\n      <td>-0.196937</td>\n      <td>261.0</td>\n      <td>262.5</td>\n      <td>261.0</td>\n      <td>261.0</td>\n      <td>240.450577</td>\n      <td>20438071</td>\n      <td>-0.015094</td>\n      <td>-0.011418</td>\n    </tr>\n    <tr>\n      <th>4</th>\n      <td>2019-07-29</td>\n      <td>-0.000574</td>\n      <td>0.00695</td>\n      <td>-0.035115</td>\n      <td>0.009478</td>\n      <td>260.0</td>\n      <td>262.0</td>\n      <td>259.5</td>\n      <td>261.0</td>\n      <td>240.450577</td>\n      <td>17509320</td>\n      <td>0.000000</td>\n      <td>-0.007524</td>\n    </tr>\n    <tr>\n      <th>5</th>\n      <td>2019-07-30</td>\n      <td>-0.005037</td>\n      <td>0.00695</td>\n      <td>-0.104761</td>\n      <td>-0.132129</td>\n      <td>262.5</td>\n      <td>263.0</td>\n      <td>260.0</td>\n      <td>260.0</td>\n      <td>239.529358</td>\n      <td>22670612</td>\n      <td>-0.003831</td>\n      <td>-0.011987</td>\n    </tr>\n    <tr>\n      <th>...</th>\n      <td>...</td>\n      <td>...</td>\n      <td>...</td>\n      <td>...</td>\n      <td>...</td>\n      <td>...</td>\n      <td>...</td>\n      <td>...</td>\n      <td>...</td>\n      <td>...</td>\n      <td>...</td>\n      <td>...</td>\n      <td>...</td>\n    </tr>\n    <tr>\n      <th>822</th>\n      <td>2022-12-09</td>\n      <td>0.010471</td>\n      <td>0.01284</td>\n      <td>-0.168422</td>\n      <td>0.346143</td>\n      <td>478.0</td>\n      <td>484.5</td>\n      <td>476.0</td>\n      <td>481.5</td>\n      <td>478.744293</td>\n      <td>25915337</td>\n      <td>0.021209</td>\n      <td>-0.002369</td>\n    </tr>\n    <tr>\n      <th>823</th>\n      <td>2022-12-12</td>\n      <td>-0.006313</td>\n      <td>0.01295</td>\n      <td>0.095997</td>\n      <td>-0.284591</td>\n      <td>476.5</td>\n      <td>478.0</td>\n      <td>473.5</td>\n      <td>475.0</td>\n      <td>472.281494</td>\n      <td>20973334</td>\n      <td>-0.013499</td>\n      <td>-0.019263</td>\n    </tr>\n    <tr>\n      <th>824</th>\n      <td>2022-12-13</td>\n      <td>-0.006134</td>\n      <td>0.01290</td>\n      <td>0.012489</td>\n      <td>-0.194627</td>\n      <td>473.0</td>\n      <td>476.0</td>\n      <td>471.0</td>\n      <td>471.5</td>\n      <td>468.801514</td>\n      <td>33272826</td>\n      <td>-0.007368</td>\n      <td>-0.019034</td>\n    </tr>\n    <tr>\n      <th>825</th>\n      <td>2022-12-14</td>\n      <td>0.014901</td>\n      <td>0.01275</td>\n      <td>-0.014209</td>\n      <td>0.468954</td>\n      <td>472.0</td>\n      <td>480.5</td>\n      <td>472.0</td>\n      <td>480.5</td>\n      <td>477.750000</td>\n      <td>30636639</td>\n      <td>0.019088</td>\n      <td>0.002151</td>\n    </tr>\n    <tr>\n      <th>826</th>\n      <td>2022-12-15</td>\n      <td>-0.000355</td>\n      <td>0.01275</td>\n      <td>0.082550</td>\n      <td>-0.046106</td>\n      <td>476.0</td>\n      <td>481.5</td>\n      <td>474.5</td>\n      <td>480.5</td>\n      <td>480.500000</td>\n      <td>24222008</td>\n      <td>0.005756</td>\n      <td>-0.013105</td>\n    </tr>\n  </tbody>\n</table>\n<p>826 rows × 13 columns</p>\n</div>",
      "text/plain": "           Date    market       rf       SMB       HML   Open   High    Low  \\\n1    2019-07-24 -0.001050  0.00675 -0.022355  0.071122  266.5  266.5  263.0   \n2    2019-07-25  0.000517  0.00674  0.142433  0.051578  264.0  265.0  261.5   \n3    2019-07-26 -0.004518  0.00690  0.144194 -0.196937  261.0  262.5  261.0   \n4    2019-07-29 -0.000574  0.00695 -0.035115  0.009478  260.0  262.0  259.5   \n5    2019-07-30 -0.005037  0.00695 -0.104761 -0.132129  262.5  263.0  260.0   \n..          ...       ...      ...       ...       ...    ...    ...    ...   \n822  2022-12-09  0.010471  0.01284 -0.168422  0.346143  478.0  484.5  476.0   \n823  2022-12-12 -0.006313  0.01295  0.095997 -0.284591  476.5  478.0  473.5   \n824  2022-12-13 -0.006134  0.01290  0.012489 -0.194627  473.0  476.0  471.0   \n825  2022-12-14  0.014901  0.01275 -0.014209  0.468954  472.0  480.5  472.0   \n826  2022-12-15 -0.000355  0.01275  0.082550 -0.046106  476.0  481.5  474.5   \n\n     Close   Adj Close    Volume  Daily_Return    mkt-rf  \n1    265.0  244.135666  23734039      0.003788 -0.007800  \n2    265.0  244.135666  30433545      0.000000 -0.006223  \n3    261.0  240.450577  20438071     -0.015094 -0.011418  \n4    261.0  240.450577  17509320      0.000000 -0.007524  \n5    260.0  239.529358  22670612     -0.003831 -0.011987  \n..     ...         ...       ...           ...       ...  \n822  481.5  478.744293  25915337      0.021209 -0.002369  \n823  475.0  472.281494  20973334     -0.013499 -0.019263  \n824  471.5  468.801514  33272826     -0.007368 -0.019034  \n825  480.5  477.750000  30636639      0.019088  0.002151  \n826  480.5  480.500000  24222008      0.005756 -0.013105  \n\n[826 rows x 13 columns]"
     },
     "execution_count": 33,
     "metadata": {},
     "output_type": "execute_result"
    }
   ],
   "source": [
    "final = joint.drop(index = joint.index[0:129])\n",
    "final.index = final.index - 129\n",
    "final"
   ]
  },
  {
   "cell_type": "code",
   "execution_count": 34,
   "metadata": {},
   "outputs": [
    {
     "data": {
      "text/html": "<div>\n<style scoped>\n    .dataframe tbody tr th:only-of-type {\n        vertical-align: middle;\n    }\n\n    .dataframe tbody tr th {\n        vertical-align: top;\n    }\n\n    .dataframe thead th {\n        text-align: right;\n    }\n</style>\n<table border=\"1\" class=\"dataframe\">\n  <thead>\n    <tr style=\"text-align: right;\">\n      <th></th>\n      <th>Date</th>\n      <th>market</th>\n      <th>rf</th>\n      <th>SMB</th>\n      <th>HML</th>\n      <th>Open</th>\n      <th>High</th>\n      <th>Low</th>\n      <th>Close</th>\n      <th>Adj Close</th>\n      <th>Volume</th>\n      <th>Daily_Return</th>\n      <th>mkt-rf</th>\n      <th>abnormal_returns</th>\n    </tr>\n  </thead>\n  <tbody>\n    <tr>\n      <th>1</th>\n      <td>2019-07-24</td>\n      <td>-0.001050</td>\n      <td>0.00675</td>\n      <td>-0.022355</td>\n      <td>0.071122</td>\n      <td>266.5</td>\n      <td>266.5</td>\n      <td>263.0</td>\n      <td>265.0</td>\n      <td>244.135666</td>\n      <td>23734039</td>\n      <td>0.003788</td>\n      <td>-0.007800</td>\n      <td>-0.029442</td>\n    </tr>\n    <tr>\n      <th>2</th>\n      <td>2019-07-25</td>\n      <td>0.000517</td>\n      <td>0.00674</td>\n      <td>0.142433</td>\n      <td>0.051578</td>\n      <td>264.0</td>\n      <td>265.0</td>\n      <td>261.5</td>\n      <td>265.0</td>\n      <td>244.135666</td>\n      <td>30433545</td>\n      <td>0.000000</td>\n      <td>-0.006223</td>\n      <td>0.032092</td>\n    </tr>\n    <tr>\n      <th>3</th>\n      <td>2019-07-26</td>\n      <td>-0.004518</td>\n      <td>0.00690</td>\n      <td>0.144194</td>\n      <td>-0.196937</td>\n      <td>261.0</td>\n      <td>262.5</td>\n      <td>261.0</td>\n      <td>261.0</td>\n      <td>240.450577</td>\n      <td>20438071</td>\n      <td>-0.015094</td>\n      <td>-0.011418</td>\n      <td>0.013644</td>\n    </tr>\n    <tr>\n      <th>4</th>\n      <td>2019-07-29</td>\n      <td>-0.000574</td>\n      <td>0.00695</td>\n      <td>-0.035115</td>\n      <td>0.009478</td>\n      <td>260.0</td>\n      <td>262.0</td>\n      <td>259.5</td>\n      <td>261.0</td>\n      <td>240.450577</td>\n      <td>17509320</td>\n      <td>0.000000</td>\n      <td>-0.007524</td>\n      <td>0.029408</td>\n    </tr>\n    <tr>\n      <th>5</th>\n      <td>2019-07-30</td>\n      <td>-0.005037</td>\n      <td>0.00695</td>\n      <td>-0.104761</td>\n      <td>-0.132129</td>\n      <td>262.5</td>\n      <td>263.0</td>\n      <td>260.0</td>\n      <td>260.0</td>\n      <td>239.529358</td>\n      <td>22670612</td>\n      <td>-0.003831</td>\n      <td>-0.011987</td>\n      <td>0.008124</td>\n    </tr>\n    <tr>\n      <th>...</th>\n      <td>...</td>\n      <td>...</td>\n      <td>...</td>\n      <td>...</td>\n      <td>...</td>\n      <td>...</td>\n      <td>...</td>\n      <td>...</td>\n      <td>...</td>\n      <td>...</td>\n      <td>...</td>\n      <td>...</td>\n      <td>...</td>\n      <td>...</td>\n    </tr>\n    <tr>\n      <th>822</th>\n      <td>2022-12-09</td>\n      <td>0.010471</td>\n      <td>0.01284</td>\n      <td>-0.168422</td>\n      <td>0.346143</td>\n      <td>478.0</td>\n      <td>484.5</td>\n      <td>476.0</td>\n      <td>481.5</td>\n      <td>478.744293</td>\n      <td>25915337</td>\n      <td>0.021209</td>\n      <td>-0.002369</td>\n      <td>-0.022397</td>\n    </tr>\n    <tr>\n      <th>823</th>\n      <td>2022-12-12</td>\n      <td>-0.006313</td>\n      <td>0.01295</td>\n      <td>0.095997</td>\n      <td>-0.284591</td>\n      <td>476.5</td>\n      <td>478.0</td>\n      <td>473.5</td>\n      <td>475.0</td>\n      <td>472.281494</td>\n      <td>20973334</td>\n      <td>-0.013499</td>\n      <td>-0.019263</td>\n      <td>-0.000112</td>\n    </tr>\n    <tr>\n      <th>824</th>\n      <td>2022-12-13</td>\n      <td>-0.006134</td>\n      <td>0.01290</td>\n      <td>0.012489</td>\n      <td>-0.194627</td>\n      <td>473.0</td>\n      <td>476.0</td>\n      <td>471.0</td>\n      <td>471.5</td>\n      <td>468.801514</td>\n      <td>33272826</td>\n      <td>-0.007368</td>\n      <td>-0.019034</td>\n      <td>-0.017974</td>\n    </tr>\n    <tr>\n      <th>825</th>\n      <td>2022-12-14</td>\n      <td>0.014901</td>\n      <td>0.01275</td>\n      <td>-0.014209</td>\n      <td>0.468954</td>\n      <td>472.0</td>\n      <td>480.5</td>\n      <td>472.0</td>\n      <td>480.5</td>\n      <td>477.750000</td>\n      <td>30636639</td>\n      <td>0.019088</td>\n      <td>0.002151</td>\n      <td>-0.089504</td>\n    </tr>\n    <tr>\n      <th>826</th>\n      <td>2022-12-15</td>\n      <td>-0.000355</td>\n      <td>0.01275</td>\n      <td>0.082550</td>\n      <td>-0.046106</td>\n      <td>476.0</td>\n      <td>481.5</td>\n      <td>474.5</td>\n      <td>480.5</td>\n      <td>480.500000</td>\n      <td>24222008</td>\n      <td>0.005756</td>\n      <td>-0.013105</td>\n      <td>-0.009068</td>\n    </tr>\n  </tbody>\n</table>\n<p>826 rows × 14 columns</p>\n</div>",
      "text/plain": "           Date    market       rf       SMB       HML   Open   High    Low  \\\n1    2019-07-24 -0.001050  0.00675 -0.022355  0.071122  266.5  266.5  263.0   \n2    2019-07-25  0.000517  0.00674  0.142433  0.051578  264.0  265.0  261.5   \n3    2019-07-26 -0.004518  0.00690  0.144194 -0.196937  261.0  262.5  261.0   \n4    2019-07-29 -0.000574  0.00695 -0.035115  0.009478  260.0  262.0  259.5   \n5    2019-07-30 -0.005037  0.00695 -0.104761 -0.132129  262.5  263.0  260.0   \n..          ...       ...      ...       ...       ...    ...    ...    ...   \n822  2022-12-09  0.010471  0.01284 -0.168422  0.346143  478.0  484.5  476.0   \n823  2022-12-12 -0.006313  0.01295  0.095997 -0.284591  476.5  478.0  473.5   \n824  2022-12-13 -0.006134  0.01290  0.012489 -0.194627  473.0  476.0  471.0   \n825  2022-12-14  0.014901  0.01275 -0.014209  0.468954  472.0  480.5  472.0   \n826  2022-12-15 -0.000355  0.01275  0.082550 -0.046106  476.0  481.5  474.5   \n\n     Close   Adj Close    Volume  Daily_Return    mkt-rf  abnormal_returns  \n1    265.0  244.135666  23734039      0.003788 -0.007800         -0.029442  \n2    265.0  244.135666  30433545      0.000000 -0.006223          0.032092  \n3    261.0  240.450577  20438071     -0.015094 -0.011418          0.013644  \n4    261.0  240.450577  17509320      0.000000 -0.007524          0.029408  \n5    260.0  239.529358  22670612     -0.003831 -0.011987          0.008124  \n..     ...         ...       ...           ...       ...               ...  \n822  481.5  478.744293  25915337      0.021209 -0.002369         -0.022397  \n823  475.0  472.281494  20973334     -0.013499 -0.019263         -0.000112  \n824  471.5  468.801514  33272826     -0.007368 -0.019034         -0.017974  \n825  480.5  477.750000  30636639      0.019088  0.002151         -0.089504  \n826  480.5  480.500000  24222008      0.005756 -0.013105         -0.009068  \n\n[826 rows x 14 columns]"
     },
     "execution_count": 34,
     "metadata": {},
     "output_type": "execute_result"
    }
   ],
   "source": [
    "final['abnormal_returns'] = df4['ER'] - final['Daily_Return']\n",
    "final"
   ]
  }
 ],
 "metadata": {
  "kernelspec": {
   "display_name": "Python 3",
   "language": "python",
   "name": "python3"
  },
  "language_info": {
   "codemirror_mode": {
    "name": "ipython",
    "version": 3
   },
   "file_extension": ".py",
   "mimetype": "text/x-python",
   "name": "python",
   "nbconvert_exporter": "python",
   "pygments_lexer": "ipython3",
   "version": "3.8.5"
  }
 },
 "nbformat": 4,
 "nbformat_minor": 2
}