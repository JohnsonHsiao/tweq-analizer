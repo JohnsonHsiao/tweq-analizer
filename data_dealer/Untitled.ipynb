{
 "cells": [
  {
   "cell_type": "code",
   "execution_count": 4,
   "id": "2cfe5664",
   "metadata": {},
   "outputs": [],
   "source": [
    "import pandas as pd\n",
    "import os\n",
    "os.makedirs('/Users/johnsonhsiao/tweq-analizer/data_center/demo2/')\n",
    "day = ['2019-08-02','2019-08-13','2019-08-26','2019-10-01','2019-11-04','2019-12-11','2020-01-17','2020-01-30','2020-02-27','2020-03-12','2020-03-23','2020-04-06','2020-04-21','2020-06-03','2020-07-24','2020-08-10','2021-01-13','2021-01-26','2021-02-17','2021-04-23','2021-05-05','2021-05-17','2021-07-20','2021-08-13','2021-09-22','2021-10-05','2022-03-04','2022-04-25','2022-05-06','2022-05-18','2022-06-17','2022-06-30','2022-08-29','2022-09-22','2022-10-04','2022-11-02']\n",
    "file = '/Users/johnsonhsiao/tweq-analizer/data_center/final'\n",
    "data_list = os.listdir(file)\n",
    "\n",
    "for d in day:\n",
    "    a = []\n",
    "    for i in data_list:\n",
    "        data = pd.read_csv(file+'/'+i)\n",
    "        a.append(data[data['Date'] == d])\n",
    "        b = pd.concat(a)\n",
    "        b['Unnamed: 0'] = b['Date']\n",
    "        b.to_csv('/Users/johnsonhsiao/tweq-analizer/data_center/demo/'+d+'.csv')\n"
   ]
  },
  {
   "cell_type": "code",
   "execution_count": 8,
   "id": "0ff2d1c9",
   "metadata": {},
   "outputs": [
    {
     "data": {
      "text/plain": [
       "44"
      ]
     },
     "execution_count": 8,
     "metadata": {},
     "output_type": "execute_result"
    }
   ],
   "source": [
    "len(data_list)"
   ]
  },
  {
   "cell_type": "code",
   "execution_count": null,
   "id": "6acb87ad",
   "metadata": {},
   "outputs": [],
   "source": []
  }
 ],
 "metadata": {
  "kernelspec": {
   "display_name": "Python 3 (ipykernel)",
   "language": "python",
   "name": "python3"
  },
  "language_info": {
   "codemirror_mode": {
    "name": "ipython",
    "version": 3
   },
   "file_extension": ".py",
   "mimetype": "text/x-python",
   "name": "python",
   "nbconvert_exporter": "python",
   "pygments_lexer": "ipython3",
   "version": "3.8.15"
  }
 },
 "nbformat": 4,
 "nbformat_minor": 5
}
