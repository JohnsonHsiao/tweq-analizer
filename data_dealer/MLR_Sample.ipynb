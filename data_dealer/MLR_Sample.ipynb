{
 "cells": [
  {
   "cell_type": "code",
   "execution_count": 1,
   "metadata": {},
   "outputs": [],
   "source": [
    "import pandas as pd\n",
    "import numpy as np\n",
    "import statsmodels.api as sm\n",
    "import matplotlib.pyplot as plt\n",
    "import seaborn as sns\n",
    "event_210514 = pd.read_csv('/Users/lofang/Desktop/python/IMF_Project/2021-05-14.csv')"
   ]
  },
  {
   "cell_type": "code",
   "execution_count": 2,
   "metadata": {},
   "outputs": [
    {
     "data": {
      "text/html": "<div>\n<style scoped>\n    .dataframe tbody tr th:only-of-type {\n        vertical-align: middle;\n    }\n\n    .dataframe tbody tr th {\n        vertical-align: top;\n    }\n\n    .dataframe thead th {\n        text-align: right;\n    }\n</style>\n<table border=\"1\" class=\"dataframe\">\n  <thead>\n    <tr style=\"text-align: right;\">\n      <th></th>\n      <th>Company Code</th>\n      <th>Average attendance of Chairman of the Board</th>\n      <th>Average attendance of the Board of Directors</th>\n      <th>Directors average hours of study</th>\n      <th>Directors liability insurance coverage to net value percentage</th>\n      <th>Directors liability insurance coverage to revenue percentage</th>\n      <th>Directors liability insurance coverage to total assets percentage</th>\n      <th>Directors liability insurance coverage</th>\n      <th>Directors salary</th>\n      <th>Employee bonus cash</th>\n      <th>...</th>\n      <th>Financial Holdings Industry</th>\n      <th>Information Services Industry</th>\n      <th>Rubber Products Manufacturing</th>\n      <th>Banking Industry</th>\n      <th>Paper Industry</th>\n      <th>Oil, Electricity and Gas Industry</th>\n      <th>Cement and Cement Products Manufacturing</th>\n      <th>Insurance Industry</th>\n      <th>Glass and Glass Products Manufacturing</th>\n      <th>Securities Industry</th>\n    </tr>\n  </thead>\n  <tbody>\n    <tr>\n      <th>0</th>\n      <td>1101</td>\n      <td>100.0</td>\n      <td>96.19</td>\n      <td>8.13</td>\n      <td>0.61</td>\n      <td>1.29</td>\n      <td>0.31</td>\n      <td>1384.00</td>\n      <td>210.45</td>\n      <td>106.91</td>\n      <td>...</td>\n      <td>0.0</td>\n      <td>0.0</td>\n      <td>0.0</td>\n      <td>0.0</td>\n      <td>0.0</td>\n      <td>0.0</td>\n      <td>1.0</td>\n      <td>0.0</td>\n      <td>0.0</td>\n      <td>0.0</td>\n    </tr>\n    <tr>\n      <th>1</th>\n      <td>1102</td>\n      <td>100.0</td>\n      <td>96.94</td>\n      <td>5.79</td>\n      <td>0.15</td>\n      <td>0.31</td>\n      <td>0.09</td>\n      <td>279.25</td>\n      <td>161.97</td>\n      <td>185.11</td>\n      <td>...</td>\n      <td>0.0</td>\n      <td>0.0</td>\n      <td>0.0</td>\n      <td>0.0</td>\n      <td>0.0</td>\n      <td>0.0</td>\n      <td>1.0</td>\n      <td>0.0</td>\n      <td>0.0</td>\n      <td>0.0</td>\n    </tr>\n    <tr>\n      <th>2</th>\n      <td>1103</td>\n      <td>100.0</td>\n      <td>95.24</td>\n      <td>15.00</td>\n      <td>0.76</td>\n      <td>8.92</td>\n      <td>0.49</td>\n      <td>198.00</td>\n      <td>9.66</td>\n      <td>9.66</td>\n      <td>...</td>\n      <td>0.0</td>\n      <td>0.0</td>\n      <td>0.0</td>\n      <td>0.0</td>\n      <td>0.0</td>\n      <td>0.0</td>\n      <td>1.0</td>\n      <td>0.0</td>\n      <td>0.0</td>\n      <td>0.0</td>\n    </tr>\n    <tr>\n      <th>3</th>\n      <td>1104</td>\n      <td>100.0</td>\n      <td>100.00</td>\n      <td>8.14</td>\n      <td>0.43</td>\n      <td>1.37</td>\n      <td>0.33</td>\n      <td>82.98</td>\n      <td>20.86</td>\n      <td>20.86</td>\n      <td>...</td>\n      <td>0.0</td>\n      <td>0.0</td>\n      <td>0.0</td>\n      <td>0.0</td>\n      <td>0.0</td>\n      <td>0.0</td>\n      <td>1.0</td>\n      <td>0.0</td>\n      <td>0.0</td>\n      <td>0.0</td>\n    </tr>\n    <tr>\n      <th>4</th>\n      <td>1108</td>\n      <td>100.0</td>\n      <td>100.00</td>\n      <td>6.29</td>\n      <td>1.40</td>\n      <td>1.72</td>\n      <td>0.81</td>\n      <td>64.84</td>\n      <td>16.62</td>\n      <td>9.97</td>\n      <td>...</td>\n      <td>0.0</td>\n      <td>0.0</td>\n      <td>0.0</td>\n      <td>0.0</td>\n      <td>0.0</td>\n      <td>0.0</td>\n      <td>1.0</td>\n      <td>0.0</td>\n      <td>0.0</td>\n      <td>0.0</td>\n    </tr>\n    <tr>\n      <th>...</th>\n      <td>...</td>\n      <td>...</td>\n      <td>...</td>\n      <td>...</td>\n      <td>...</td>\n      <td>...</td>\n      <td>...</td>\n      <td>...</td>\n      <td>...</td>\n      <td>...</td>\n      <td>...</td>\n      <td>...</td>\n      <td>...</td>\n      <td>...</td>\n      <td>...</td>\n      <td>...</td>\n      <td>...</td>\n      <td>...</td>\n      <td>...</td>\n      <td>...</td>\n      <td>...</td>\n    </tr>\n    <tr>\n      <th>894</th>\n      <td>9940</td>\n      <td>100.0</td>\n      <td>97.40</td>\n      <td>11.57</td>\n      <td>0.67</td>\n      <td>0.45</td>\n      <td>0.25</td>\n      <td>83.67</td>\n      <td>4.80</td>\n      <td>29.25</td>\n      <td>...</td>\n      <td>0.0</td>\n      <td>0.0</td>\n      <td>0.0</td>\n      <td>0.0</td>\n      <td>0.0</td>\n      <td>0.0</td>\n      <td>0.0</td>\n      <td>0.0</td>\n      <td>0.0</td>\n      <td>0.0</td>\n    </tr>\n    <tr>\n      <th>895</th>\n      <td>9941</td>\n      <td>100.0</td>\n      <td>94.74</td>\n      <td>6.27</td>\n      <td>0.22</td>\n      <td>0.18</td>\n      <td>0.02</td>\n      <td>56.10</td>\n      <td>29.70</td>\n      <td>33.55</td>\n      <td>...</td>\n      <td>0.0</td>\n      <td>0.0</td>\n      <td>0.0</td>\n      <td>0.0</td>\n      <td>0.0</td>\n      <td>0.0</td>\n      <td>0.0</td>\n      <td>0.0</td>\n      <td>0.0</td>\n      <td>0.0</td>\n    </tr>\n    <tr>\n      <th>896</th>\n      <td>9942</td>\n      <td>100.0</td>\n      <td>90.48</td>\n      <td>6.00</td>\n      <td>4.35</td>\n      <td>3.64</td>\n      <td>2.88</td>\n      <td>140.48</td>\n      <td>6.00</td>\n      <td>33.75</td>\n      <td>...</td>\n      <td>0.0</td>\n      <td>0.0</td>\n      <td>0.0</td>\n      <td>0.0</td>\n      <td>0.0</td>\n      <td>0.0</td>\n      <td>0.0</td>\n      <td>0.0</td>\n      <td>0.0</td>\n      <td>0.0</td>\n    </tr>\n    <tr>\n      <th>897</th>\n      <td>9943</td>\n      <td>75.0</td>\n      <td>87.50</td>\n      <td>2.10</td>\n      <td>3.93</td>\n      <td>8.27</td>\n      <td>2.57</td>\n      <td>139.05</td>\n      <td>1.20</td>\n      <td>0.06</td>\n      <td>...</td>\n      <td>0.0</td>\n      <td>0.0</td>\n      <td>0.0</td>\n      <td>0.0</td>\n      <td>0.0</td>\n      <td>0.0</td>\n      <td>0.0</td>\n      <td>0.0</td>\n      <td>0.0</td>\n      <td>0.0</td>\n    </tr>\n    <tr>\n      <th>898</th>\n      <td>9944</td>\n      <td>100.0</td>\n      <td>100.00</td>\n      <td>8.14</td>\n      <td>2.55</td>\n      <td>3.20</td>\n      <td>1.47</td>\n      <td>83.54</td>\n      <td>5.43</td>\n      <td>16.30</td>\n      <td>...</td>\n      <td>0.0</td>\n      <td>0.0</td>\n      <td>0.0</td>\n      <td>0.0</td>\n      <td>0.0</td>\n      <td>0.0</td>\n      <td>0.0</td>\n      <td>0.0</td>\n      <td>0.0</td>\n      <td>0.0</td>\n    </tr>\n  </tbody>\n</table>\n<p>899 rows × 76 columns</p>\n</div>",
      "text/plain": "     Company Code  Average attendance of Chairman of the Board  \\\n0            1101                                        100.0   \n1            1102                                        100.0   \n2            1103                                        100.0   \n3            1104                                        100.0   \n4            1108                                        100.0   \n..            ...                                          ...   \n894          9940                                        100.0   \n895          9941                                        100.0   \n896          9942                                        100.0   \n897          9943                                         75.0   \n898          9944                                        100.0   \n\n     Average attendance of the Board of Directors  \\\n0                                           96.19   \n1                                           96.94   \n2                                           95.24   \n3                                          100.00   \n4                                          100.00   \n..                                            ...   \n894                                         97.40   \n895                                         94.74   \n896                                         90.48   \n897                                         87.50   \n898                                        100.00   \n\n     Directors average hours of study  \\\n0                                8.13   \n1                                5.79   \n2                               15.00   \n3                                8.14   \n4                                6.29   \n..                                ...   \n894                             11.57   \n895                              6.27   \n896                              6.00   \n897                              2.10   \n898                              8.14   \n\n     Directors liability insurance coverage to net value percentage  \\\n0                                                 0.61                \n1                                                 0.15                \n2                                                 0.76                \n3                                                 0.43                \n4                                                 1.40                \n..                                                 ...                \n894                                               0.67                \n895                                               0.22                \n896                                               4.35                \n897                                               3.93                \n898                                               2.55                \n\n     Directors liability insurance coverage to revenue percentage  \\\n0                                                 1.29              \n1                                                 0.31              \n2                                                 8.92              \n3                                                 1.37              \n4                                                 1.72              \n..                                                 ...              \n894                                               0.45              \n895                                               0.18              \n896                                               3.64              \n897                                               8.27              \n898                                               3.20              \n\n     Directors liability insurance coverage to total assets percentage  \\\n0                                                 0.31                   \n1                                                 0.09                   \n2                                                 0.49                   \n3                                                 0.33                   \n4                                                 0.81                   \n..                                                 ...                   \n894                                               0.25                   \n895                                               0.02                   \n896                                               2.88                   \n897                                               2.57                   \n898                                               1.47                   \n\n     Directors liability insurance coverage  Directors salary  \\\n0                                   1384.00            210.45   \n1                                    279.25            161.97   \n2                                    198.00              9.66   \n3                                     82.98             20.86   \n4                                     64.84             16.62   \n..                                      ...               ...   \n894                                   83.67              4.80   \n895                                   56.10             29.70   \n896                                  140.48              6.00   \n897                                  139.05              1.20   \n898                                   83.54              5.43   \n\n     Employee bonus cash  ...  Financial Holdings Industry  \\\n0                 106.91  ...                          0.0   \n1                 185.11  ...                          0.0   \n2                   9.66  ...                          0.0   \n3                  20.86  ...                          0.0   \n4                   9.97  ...                          0.0   \n..                   ...  ...                          ...   \n894                29.25  ...                          0.0   \n895                33.55  ...                          0.0   \n896                33.75  ...                          0.0   \n897                 0.06  ...                          0.0   \n898                16.30  ...                          0.0   \n\n     Information Services Industry  Rubber Products Manufacturing  \\\n0                              0.0                            0.0   \n1                              0.0                            0.0   \n2                              0.0                            0.0   \n3                              0.0                            0.0   \n4                              0.0                            0.0   \n..                             ...                            ...   \n894                            0.0                            0.0   \n895                            0.0                            0.0   \n896                            0.0                            0.0   \n897                            0.0                            0.0   \n898                            0.0                            0.0   \n\n     Banking Industry  Paper Industry  Oil, Electricity and Gas Industry  \\\n0                 0.0             0.0                                0.0   \n1                 0.0             0.0                                0.0   \n2                 0.0             0.0                                0.0   \n3                 0.0             0.0                                0.0   \n4                 0.0             0.0                                0.0   \n..                ...             ...                                ...   \n894               0.0             0.0                                0.0   \n895               0.0             0.0                                0.0   \n896               0.0             0.0                                0.0   \n897               0.0             0.0                                0.0   \n898               0.0             0.0                                0.0   \n\n     Cement and Cement Products Manufacturing  Insurance Industry  \\\n0                                         1.0                 0.0   \n1                                         1.0                 0.0   \n2                                         1.0                 0.0   \n3                                         1.0                 0.0   \n4                                         1.0                 0.0   \n..                                        ...                 ...   \n894                                       0.0                 0.0   \n895                                       0.0                 0.0   \n896                                       0.0                 0.0   \n897                                       0.0                 0.0   \n898                                       0.0                 0.0   \n\n     Glass and Glass Products Manufacturing  Securities Industry  \n0                                       0.0                  0.0  \n1                                       0.0                  0.0  \n2                                       0.0                  0.0  \n3                                       0.0                  0.0  \n4                                       0.0                  0.0  \n..                                      ...                  ...  \n894                                     0.0                  0.0  \n895                                     0.0                  0.0  \n896                                     0.0                  0.0  \n897                                     0.0                  0.0  \n898                                     0.0                  0.0  \n\n[899 rows x 76 columns]"
     },
     "execution_count": 2,
     "metadata": {},
     "output_type": "execute_result"
    }
   ],
   "source": [
    "event_210514.rename(columns = {'Unnamed: 0':'Company Code'}, inplace = True)\n",
    "event_210514"
   ]
  },
  {
   "cell_type": "code",
   "execution_count": 3,
   "metadata": {},
   "outputs": [
    {
     "name": "stdout",
     "output_type": "stream",
     "text": [
      "<class 'pandas.core.frame.DataFrame'>\n",
      "RangeIndex: 899 entries, 0 to 898\n",
      "Data columns (total 76 columns):\n",
      " #   Column                                                                   Non-Null Count  Dtype  \n",
      "---  ------                                                                   --------------  -----  \n",
      " 0   Company Code                                                             899 non-null    int64  \n",
      " 1   Average attendance of Chairman of the Board                              899 non-null    float64\n",
      " 2   Average attendance of the Board of Directors                             899 non-null    float64\n",
      " 3   Directors average hours of study                                         899 non-null    float64\n",
      " 4   Directors liability insurance coverage to net value percentage           899 non-null    float64\n",
      " 5   Directors liability insurance coverage to revenue percentage             899 non-null    float64\n",
      " 6   Directors liability insurance coverage to total assets percentage        899 non-null    float64\n",
      " 7   Directors liability insurance coverage                                   899 non-null    float64\n",
      " 8   Directors salary                                                         899 non-null    float64\n",
      " 9   Employee bonus cash                                                      899 non-null    float64\n",
      " 10  Employee bonus shares                                                    899 non-null    float64\n",
      " 11  Employee bonus to net income before tax ratio                            899 non-null    float64\n",
      " 12  Employee turnover rate                                                   899 non-null    int64  \n",
      " 13  equity of stock holdings (Major shareholder)                             899 non-null    float64\n",
      " 14  Internal audit variation in the current month                            899 non-null    int64  \n",
      " 15  Management Internalization ratio                                         899 non-null    float64\n",
      " 16  Managers shareholding                                                    899 non-null    float64\n",
      " 17  Number of Board Meetings                                                 899 non-null    int64  \n",
      " 18  Number of changes in chairmanship for the month                          899 non-null    int64  \n",
      " 19  Number of directors and supervisors with financial experience            899 non-null    int64  \n",
      " 20  Number of general manager changes in the month                           899 non-null    int64  \n",
      " 21  Number of Underwriting Insurance Companies                               899 non-null    int64  \n",
      " 22  Percentage of directors and supervisors with a bachelors degree          899 non-null    float64\n",
      " 23  Percentage of directors and supervisors with masters degrees             899 non-null    float64\n",
      " 24  Proportion of supervisors with doctoral degrees                          899 non-null    float64\n",
      " 25  Reinvestment to assets ratio                                             899 non-null    float64\n",
      " 26  Reinvestment to net value ratio                                          899 non-null    float64\n",
      " 27  Sales percentage to related parties                                      899 non-null    int64  \n",
      " 28  tockholding of Directors and Supervisors                                 899 non-null    float64\n",
      " 29  Total social responsibility events                                       899 non-null    int64  \n",
      " 30  Asset Growth Rate                                                        899 non-null    float64\n",
      " 31  Market Value                                                             899 non-null    int64  \n",
      " 32  P_B(Q)                                                                   899 non-null    float64\n",
      " 33  ROA                                                                      899 non-null    float64\n",
      " 34  abnormal_returns                                                         899 non-null    float64\n",
      " 35  t-1~t CAR                                                                899 non-null    float64\n",
      " 36  t-2~t CAR                                                                899 non-null    float64\n",
      " 37  t-3~t CAR                                                                899 non-null    float64\n",
      " 38  t-3~t+1 CAR                                                              899 non-null    float64\n",
      " 39  t-3~t+2 CAR                                                              899 non-null    float64\n",
      " 40  t-3~t+3 CAR                                                              899 non-null    float64\n",
      " 41  t~t+1 CAR                                                                899 non-null    float64\n",
      " 42  t~t+2 CAR                                                                899 non-null    float64\n",
      " 43  t~t+3 CAR                                                                899 non-null    float64\n",
      " 44  FX factor                                                                899 non-null    float64\n",
      " 45  Electronic Parts and Components Manufacturing                            899 non-null    float64\n",
      " 46  Semi-conductors Manufacturing                                            899 non-null    float64\n",
      " 47  Others                                                                   899 non-null    float64\n",
      " 48  Optoelectronic Materials and Components Manufacturing                    899 non-null    float64\n",
      " 49  Computers and Peripheral Equipment Manufacturing                         899 non-null    float64\n",
      " 50  Building Materials Construction                                          899 non-null    float64\n",
      " 51  Power Generation, Transmission and Distribution Machinery Manufacturing  899 non-null    float64\n",
      " 52  Textiles Mills                                                           899 non-null    float64\n",
      " 53  Information and Communications Technology                                899 non-null    float64\n",
      " 54  Medical Materials and Supplies Manufacturing                             899 non-null    float64\n",
      " 55  Other Electronic Parts and Components Manufacturing                      899 non-null    float64\n",
      " 56  Motor Vehicles Manufacturing                                             899 non-null    float64\n",
      " 57  Basic Iron and Steel Manufacturing                                       899 non-null    float64\n",
      " 58  Chemical Products Manufacturing                                          899 non-null    float64\n",
      " 59  Shipping Business                                                        899 non-null    float64\n",
      " 60  Food Manufacturing                                                       899 non-null    float64\n",
      " 61  Plastic Products Manufacturing                                           899 non-null    float64\n",
      " 62  Department Industry                                                      899 non-null    float64\n",
      " 63  Electronic Distribution Industry                                         899 non-null    float64\n",
      " 64  Tourist Industry                                                         899 non-null    float64\n",
      " 65  Electrical Cable Industry                                                899 non-null    float64\n",
      " 66  Financial Holdings Industry                                              899 non-null    float64\n",
      " 67  Information Services Industry                                            899 non-null    float64\n",
      " 68  Rubber Products Manufacturing                                            899 non-null    float64\n",
      " 69  Banking Industry                                                         899 non-null    float64\n",
      " 70  Paper Industry                                                           899 non-null    float64\n",
      " 71  Oil, Electricity and Gas Industry                                        899 non-null    float64\n",
      " 72  Cement and Cement Products Manufacturing                                 899 non-null    float64\n",
      " 73  Insurance Industry                                                       899 non-null    float64\n",
      " 74  Glass and Glass Products Manufacturing                                   899 non-null    float64\n",
      " 75  Securities Industry                                                      899 non-null    float64\n",
      "dtypes: float64(65), int64(11)\n",
      "memory usage: 533.9 KB\n"
     ]
    }
   ],
   "source": [
    "event_210514.info()"
   ]
  },
  {
   "cell_type": "code",
   "execution_count": 4,
   "metadata": {},
   "outputs": [
    {
     "name": "stderr",
     "output_type": "stream",
     "text": [
      "/Library/Frameworks/Python.framework/Versions/3.9/lib/python3.9/site-packages/statsmodels/stats/outliers_influence.py:195: RuntimeWarning: divide by zero encountered in double_scalars\n",
      "  vif = 1. / (1. - r_squared_i)\n"
     ]
    },
    {
     "name": "stdout",
     "output_type": "stream",
     "text": [
      "Directors liability insurance coverage to net value percentage             1.360413e+01\n",
      "Directors liability insurance coverage to total assets percentage          1.336424e+01\n",
      "Employee bonus cash                                                        1.376488e+01\n",
      "Percentage of directors and supervisors with a bachelors degree                     inf\n",
      "Percentage of directors and supervisors with masters degrees                        inf\n",
      "Market Value                                                               1.282907e+01\n",
      "abnormal_returns                                                           1.524061e+13\n",
      "t-2~t CAR                                                                  1.750184e+01\n",
      "t-3~t CAR                                                                  2.047091e+14\n",
      "t-3~t+1 CAR                                                                1.286743e+14\n",
      "t-3~t+2 CAR                                                                3.002400e+14\n",
      "t-3~t+3 CAR                                                                3.916174e+13\n",
      "t~t+1 CAR                                                                  4.740631e+14\n",
      "t~t+2 CAR                                                                  5.034768e+12\n",
      "t~t+3 CAR                                                                  4.602555e+12\n",
      "Electronic Parts and Components Manufacturing                              3.419450e+01\n",
      "Semi-conductors Manufacturing                                              2.787701e+01\n",
      "Others                                                                     2.680864e+01\n",
      "Optoelectronic Materials and Components Manufacturing                      2.417998e+01\n",
      "Computers and Peripheral Equipment Manufacturing                           2.365585e+01\n",
      "Building Materials Construction                                            1.928318e+01\n",
      "Power Generation, Transmission and Distribution Machinery Manufacturing    1.684095e+01\n",
      "Textiles Mills                                                             1.476428e+01\n",
      "Information and Communications Technology                                  1.460688e+01\n",
      "Medical Materials and Supplies Manufacturing                               1.347899e+01\n",
      "Other Electronic Parts and Components Manufacturing                        1.383225e+01\n",
      "Motor Vehicles Manufacturing                                               1.213387e+01\n",
      "Basic Iron and Steel Manufacturing                                         1.153339e+01\n",
      "Chemical Products Manufacturing                                            1.104961e+01\n",
      "dtype: float64\n"
     ]
    }
   ],
   "source": [
    "from statsmodels.stats.outliers_influence import variance_inflation_factor    \n",
    "VIF_test = pd.Series([variance_inflation_factor(event_210514.values, i)   \n",
    "    for i in range(event_210514.shape[1])],   \n",
    "        index = event_210514.columns)  \n",
    "\n",
    "result = VIF_test[VIF_test > 10]\n",
    "print(result)"
   ]
  },
  {
   "cell_type": "code",
   "execution_count": 13,
   "metadata": {},
   "outputs": [
    {
     "name": "stdout",
     "output_type": "stream",
     "text": [
      "                            OLS Regression Results                            \n",
      "==============================================================================\n",
      "Dep. Variable:              t~t+2 CAR   R-squared:                       0.062\n",
      "Model:                            OLS   Adj. R-squared:                  0.056\n",
      "Method:                 Least Squares   F-statistic:                     9.797\n",
      "Date:                Fri, 21 Apr 2023   Prob (F-statistic):           1.78e-10\n",
      "Time:                        17:11:25   Log-Likelihood:                 1541.7\n",
      "No. Observations:                 899   AIC:                            -3069.\n",
      "Df Residuals:                     892   BIC:                            -3036.\n",
      "Df Model:                           6                                         \n",
      "Covariance Type:            nonrobust                                         \n",
      "=================================================================================================================\n",
      "                                                    coef    std err          t      P>|t|      [0.025      0.975]\n",
      "-----------------------------------------------------------------------------------------------------------------\n",
      "const                                            -0.0114      0.002     -5.102      0.000      -0.016      -0.007\n",
      "Managers shareholding                          1.347e-05      0.001      0.017      0.987      -0.002       0.002\n",
      "Electronic Parts and Components Manufacturing    -0.0134      0.005     -2.757      0.006      -0.023      -0.004\n",
      "Market Value                                  -5.621e-12   2.78e-12     -2.019      0.044   -1.11e-11   -1.57e-13\n",
      "P_B(Q)                                           -0.0041      0.001     -6.507      0.000      -0.005      -0.003\n",
      "Asset Growth Rate                             -2.406e-05   6.78e-05     -0.355      0.723      -0.000       0.000\n",
      "ROA                                               0.0003      0.000      1.050      0.294      -0.000       0.001\n",
      "==============================================================================\n",
      "Omnibus:                      136.480   Durbin-Watson:                   1.910\n",
      "Prob(Omnibus):                  0.000   Jarque-Bera (JB):              765.012\n",
      "Skew:                          -0.551   Prob(JB):                    7.58e-167\n",
      "Kurtosis:                       7.383   Cond. No.                     1.78e+09\n",
      "==============================================================================\n",
      "\n",
      "Notes:\n",
      "[1] Standard Errors assume that the covariance matrix of the errors is correctly specified.\n",
      "[2] The condition number is large, 1.78e+09. This might indicate that there are\n",
      "strong multicollinearity or other numerical problems.\n"
     ]
    }
   ],
   "source": [
    "X = event_210514[['Managers shareholding','Electronic Parts and Components Manufacturing', 'Market Value','P_B(Q)','Asset Growth Rate','ROA']]\n",
    "y = event_210514['t~t+2 CAR']\n",
    "X = sm.add_constant(X)\n",
    "test1_model = sm.OLS(y, X).fit()\n",
    "print(test1_model.summary())\n",
    "intercept, b1, b2, b3, b4, b5, b6 = test1_model.params"
   ]
  },
  {
   "cell_type": "code",
   "execution_count": 17,
   "metadata": {},
   "outputs": [
    {
     "name": "stdout",
     "output_type": "stream",
     "text": [
      "                            OLS Regression Results                            \n",
      "==============================================================================\n",
      "Dep. Variable:              t~t+2 CAR   R-squared:                       0.063\n",
      "Model:                            OLS   Adj. R-squared:                  0.056\n",
      "Method:                 Least Squares   F-statistic:                     8.586\n",
      "Date:                Fri, 21 Apr 2023   Prob (F-statistic):           3.25e-10\n",
      "Time:                        17:31:33   Log-Likelihood:                 1542.4\n",
      "No. Observations:                 899   AIC:                            -3069.\n",
      "Df Residuals:                     891   BIC:                            -3030.\n",
      "Df Model:                           7                                         \n",
      "Covariance Type:            nonrobust                                         \n",
      "=================================================================================================================\n",
      "                                                    coef    std err          t      P>|t|      [0.025      0.975]\n",
      "-----------------------------------------------------------------------------------------------------------------\n",
      "const                                            -0.0099      0.003     -3.800      0.000      -0.015      -0.005\n",
      "Managers shareholding                         -2.625e-05      0.001     -0.033      0.974      -0.002       0.002\n",
      "Reinvestment to assets ratio                     -0.0001    9.8e-05     -1.143      0.253      -0.000    8.04e-05\n",
      "Electronic Parts and Components Manufacturing    -0.0139      0.005     -2.854      0.004      -0.023      -0.004\n",
      "Market Value                                  -5.593e-12   2.78e-12     -2.009      0.045   -1.11e-11    -1.3e-13\n",
      "P_B(Q)                                           -0.0042      0.001     -6.603      0.000      -0.006      -0.003\n",
      "Asset Growth Rate                             -2.408e-05   6.78e-05     -0.355      0.723      -0.000       0.000\n",
      "ROA                                               0.0003      0.000      1.235      0.217      -0.000       0.001\n",
      "==============================================================================\n",
      "Omnibus:                      135.350   Durbin-Watson:                   1.905\n",
      "Prob(Omnibus):                  0.000   Jarque-Bera (JB):              749.405\n",
      "Skew:                          -0.549   Prob(JB):                    1.86e-163\n",
      "Kurtosis:                       7.336   Cond. No.                     1.80e+09\n",
      "==============================================================================\n",
      "\n",
      "Notes:\n",
      "[1] Standard Errors assume that the covariance matrix of the errors is correctly specified.\n",
      "[2] The condition number is large, 1.8e+09. This might indicate that there are\n",
      "strong multicollinearity or other numerical problems.\n"
     ]
    }
   ],
   "source": [
    "X = event_210514[['Managers shareholding','Reinvestment to assets ratio','Electronic Parts and Components Manufacturing','Market Value','P_B(Q)','Asset Growth Rate','ROA']]\n",
    "y = event_210514['t~t+2 CAR']\n",
    "X = sm.add_constant(X)\n",
    "test1_model = sm.OLS(y, X).fit()\n",
    "print(test1_model.summary())\n",
    "# intercept, b1, b2, b3, b4, b5, b6, b7, b8, b9, b10 = test1_model.params"
   ]
  },
  {
   "cell_type": "code",
   "execution_count": null,
   "metadata": {},
   "outputs": [
    {
     "data": {
      "application/x.notebook.stream": "                            OLS Regression Results                            \n==============================================================================\nDep. Variable:              t~t+2 CAR   R-squared:                       0.063\nModel:                            OLS   Adj. R-squared:                  0.056\nMethod:                 Least Squares   F-statistic:                     8.586\nDate:                Fri, 21 Apr 2023   Prob (F-statistic):           3.25e-10\nTime:                        17:31:33   Log-Likelihood:                 1542.4\nNo. Observations:                 899   AIC:                            -3069.\nDf Residuals:                     891   BIC:                            -3030.\nDf Model:                           7                                         \nCovariance Type:            nonrobust                                         \n=================================================================================================================\n                                                    coef    std err          t      P>|t|      [0.025      0.975]\n-----------------------------------------------------------------------------------------------------------------\nconst                                            -0.0099      0.003     -3.800      0.000      -0.015      -0.005\nManagers shareholding                         -2.625e-05      0.001     -0.033      0.974      -0.002       0.002\nReinvestment to assets ratio                     -0.0001    9.8e-05     -1.143      0.253      -0.000    8.04e-05\nElectronic Parts and Components Manufacturing    -0.0139      0.005     -2.854      0.004      -0.023      -0.004\nMarket Value                                  -5.593e-12   2.78e-12     -2.009      0.045   -1.11e-11    -1.3e-13\nP_B(Q)                                           -0.0042      0.001     -6.603      0.000      -0.006      -0.003\nAsset Growth Rate                             -2.408e-05   6.78e-05     -0.355      0.723      -0.000       0.000\nROA                                               0.0003      0.000      1.235      0.217      -0.000       0.001\n==============================================================================\nOmnibus:                      135.350   Durbin-Watson:                   1.905\nProb(Omnibus):                  0.000   Jarque-Bera (JB):              749.405\nSkew:                          -0.549   Prob(JB):                    1.86e-163\nKurtosis:                       7.336   Cond. No.                     1.80e+09\n==============================================================================\n\nNotes:\n[1] Standard Errors assume that the covariance matrix of the errors is correctly specified.\n[2] The condition number is large, 1.8e+09. This might indicate that there are\nstrong multicollinearity or other numerical problems.\n"
     },
     "output_type": "unknown"
    }
   ],
   "source": [
    "X = event_210514[['Managers shareholding','Reinvestment to assets ratio','Electronic Parts and Components Manufacturing','Market Value','P_B(Q)','Asset Growth Rate','ROA']]\n",
    "y = event_210514['t~t+2 CAR']\n",
    "X = sm.add_constant(X)\n",
    "test1_model = sm.OLS(y, X).fit()\n",
    "print(test1_model.summary())\n",
    "# intercept, b1, b2, b3, b4, b5, b6, b7, b8, b9, b10 = test1_model.params"
   ]
  }
 ],
 "metadata": {
  "kernelspec": {
   "display_name": "Python 3.9.1 64-bit",
   "metadata": {
    "interpreter": {
     "hash": "aee8b7b246df8f9039afb4144a1f6fd8d2ca17a180786b69acc140d282b71a49"
    }
   },
   "name": "python3"
  },
  "language_info": {
   "codemirror_mode": {
    "name": "ipython",
    "version": 3
   },
   "file_extension": ".py",
   "mimetype": "text/x-python",
   "name": "python",
   "nbconvert_exporter": "python",
   "pygments_lexer": "ipython3",
   "version": "3.9.1"
  },
  "orig_nbformat": 2
 },
 "nbformat": 4,
 "nbformat_minor": 2
}