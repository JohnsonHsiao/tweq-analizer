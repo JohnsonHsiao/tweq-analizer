{
 "cells": [
  {
   "cell_type": "code",
   "execution_count": 10,
   "metadata": {},
   "outputs": [],
   "source": [
    "import pandas as pd\n",
    "import numpy as np\n",
    "import statsmodels.api as sm\n",
    "import matplotlib.pyplot as plt\n",
    "import seaborn as sns\n",
    "event_210514 = pd.read_csv('/Users/lofang/Desktop/python/IMF_Project/2021-05-14.csv')"
   ]
  },
  {
   "cell_type": "code",
   "execution_count": 11,
   "metadata": {},
   "outputs": [
    {
     "data": {
      "text/html": "<div>\n<style scoped>\n    .dataframe tbody tr th:only-of-type {\n        vertical-align: middle;\n    }\n\n    .dataframe tbody tr th {\n        vertical-align: top;\n    }\n\n    .dataframe thead th {\n        text-align: right;\n    }\n</style>\n<table border=\"1\" class=\"dataframe\">\n  <thead>\n    <tr style=\"text-align: right;\">\n      <th></th>\n      <th>Company Code</th>\n      <th>Average attendance of Chairman of the Board</th>\n      <th>Average attendance of the Board of Directors</th>\n      <th>Directors average hours of study</th>\n      <th>Directors liability insurance coverage to net value percentage</th>\n      <th>Directors liability insurance coverage to revenue percentage</th>\n      <th>Directors liability insurance coverage to total assets percentage</th>\n      <th>Directors liability insurance coverage</th>\n      <th>Directors salary</th>\n      <th>Employee bonus cash</th>\n      <th>...</th>\n      <th>Proportion of supervisors with doctoral degrees</th>\n      <th>Reinvestment to assets ratio</th>\n      <th>Reinvestment to net value ratio</th>\n      <th>Sales percentage to related parties</th>\n      <th>tockholding of Directors and Supervisors</th>\n      <th>Total social responsibility events</th>\n      <th>abnormal_returns</th>\n      <th>t-1~t CAR</th>\n      <th>t-3~t+3 CAR</th>\n      <th>FX factor</th>\n    </tr>\n  </thead>\n  <tbody>\n    <tr>\n      <th>0</th>\n      <td>1101</td>\n      <td>100.0</td>\n      <td>96.19</td>\n      <td>8.13</td>\n      <td>0.61</td>\n      <td>1.29</td>\n      <td>0.31</td>\n      <td>1384.00</td>\n      <td>210.45</td>\n      <td>106.91</td>\n      <td>...</td>\n      <td>33.33</td>\n      <td>25.02</td>\n      <td>42.09</td>\n      <td>2</td>\n      <td>13.56</td>\n      <td>0</td>\n      <td>-0.013762</td>\n      <td>-0.008849</td>\n      <td>0.031854</td>\n      <td>0.008557</td>\n    </tr>\n    <tr>\n      <th>1</th>\n      <td>1102</td>\n      <td>100.0</td>\n      <td>96.94</td>\n      <td>5.79</td>\n      <td>0.15</td>\n      <td>0.31</td>\n      <td>0.09</td>\n      <td>279.25</td>\n      <td>161.97</td>\n      <td>185.11</td>\n      <td>...</td>\n      <td>42.86</td>\n      <td>43.69</td>\n      <td>81.44</td>\n      <td>4</td>\n      <td>28.82</td>\n      <td>0</td>\n      <td>-0.027681</td>\n      <td>-0.018628</td>\n      <td>0.008026</td>\n      <td>0.008672</td>\n    </tr>\n    <tr>\n      <th>2</th>\n      <td>1103</td>\n      <td>100.0</td>\n      <td>95.24</td>\n      <td>15.00</td>\n      <td>0.76</td>\n      <td>8.92</td>\n      <td>0.49</td>\n      <td>198.00</td>\n      <td>9.66</td>\n      <td>9.66</td>\n      <td>...</td>\n      <td>28.57</td>\n      <td>54.04</td>\n      <td>83.11</td>\n      <td>2</td>\n      <td>17.11</td>\n      <td>0</td>\n      <td>-0.000896</td>\n      <td>0.054467</td>\n      <td>0.148769</td>\n      <td>0.016901</td>\n    </tr>\n    <tr>\n      <th>3</th>\n      <td>1104</td>\n      <td>100.0</td>\n      <td>100.00</td>\n      <td>8.14</td>\n      <td>0.43</td>\n      <td>1.37</td>\n      <td>0.33</td>\n      <td>82.98</td>\n      <td>20.86</td>\n      <td>20.86</td>\n      <td>...</td>\n      <td>28.57</td>\n      <td>49.47</td>\n      <td>62.73</td>\n      <td>2</td>\n      <td>24.16</td>\n      <td>0</td>\n      <td>-0.009236</td>\n      <td>0.028828</td>\n      <td>0.158891</td>\n      <td>0.007664</td>\n    </tr>\n    <tr>\n      <th>4</th>\n      <td>1108</td>\n      <td>100.0</td>\n      <td>100.00</td>\n      <td>6.29</td>\n      <td>1.40</td>\n      <td>1.72</td>\n      <td>0.81</td>\n      <td>64.84</td>\n      <td>16.62</td>\n      <td>9.97</td>\n      <td>...</td>\n      <td>28.57</td>\n      <td>3.15</td>\n      <td>5.60</td>\n      <td>2</td>\n      <td>3.95</td>\n      <td>0</td>\n      <td>-0.016942</td>\n      <td>0.067107</td>\n      <td>0.213550</td>\n      <td>0.014678</td>\n    </tr>\n    <tr>\n      <th>...</th>\n      <td>...</td>\n      <td>...</td>\n      <td>...</td>\n      <td>...</td>\n      <td>...</td>\n      <td>...</td>\n      <td>...</td>\n      <td>...</td>\n      <td>...</td>\n      <td>...</td>\n      <td>...</td>\n      <td>...</td>\n      <td>...</td>\n      <td>...</td>\n      <td>...</td>\n      <td>...</td>\n      <td>...</td>\n      <td>...</td>\n      <td>...</td>\n      <td>...</td>\n      <td>...</td>\n    </tr>\n    <tr>\n      <th>899</th>\n      <td>9944</td>\n      <td>100.0</td>\n      <td>100.00</td>\n      <td>8.14</td>\n      <td>2.55</td>\n      <td>3.20</td>\n      <td>1.47</td>\n      <td>83.54</td>\n      <td>5.43</td>\n      <td>16.30</td>\n      <td>...</td>\n      <td>14.29</td>\n      <td>3.09</td>\n      <td>5.47</td>\n      <td>2</td>\n      <td>26.67</td>\n      <td>0</td>\n      <td>0.099506</td>\n      <td>0.000808</td>\n      <td>-0.043283</td>\n      <td>0.005586</td>\n    </tr>\n    <tr>\n      <th>900</th>\n      <td>9945</td>\n      <td>100.0</td>\n      <td>87.18</td>\n      <td>6.33</td>\n      <td>0.02</td>\n      <td>0.10</td>\n      <td>0.01</td>\n      <td>28.39</td>\n      <td>0.00</td>\n      <td>48.50</td>\n      <td>...</td>\n      <td>33.33</td>\n      <td>75.30</td>\n      <td>117.38</td>\n      <td>2</td>\n      <td>27.81</td>\n      <td>0</td>\n      <td>-0.027475</td>\n      <td>-0.022900</td>\n      <td>0.051035</td>\n      <td>-0.001030</td>\n    </tr>\n    <tr>\n      <th>901</th>\n      <td>9946</td>\n      <td>100.0</td>\n      <td>100.00</td>\n      <td>8.71</td>\n      <td>0.86</td>\n      <td>3.26</td>\n      <td>0.37</td>\n      <td>56.02</td>\n      <td>2.16</td>\n      <td>2.16</td>\n      <td>...</td>\n      <td>0.00</td>\n      <td>1.28</td>\n      <td>3.00</td>\n      <td>24</td>\n      <td>14.74</td>\n      <td>0</td>\n      <td>0.005211</td>\n      <td>0.008434</td>\n      <td>0.136333</td>\n      <td>0.000707</td>\n    </tr>\n    <tr>\n      <th>902</th>\n      <td>9955</td>\n      <td>100.0</td>\n      <td>93.65</td>\n      <td>8.57</td>\n      <td>5.60</td>\n      <td>5.63</td>\n      <td>2.92</td>\n      <td>83.61</td>\n      <td>0.00</td>\n      <td>0.00</td>\n      <td>...</td>\n      <td>0.00</td>\n      <td>2.23</td>\n      <td>4.22</td>\n      <td>0</td>\n      <td>39.16</td>\n      <td>0</td>\n      <td>0.042488</td>\n      <td>0.059956</td>\n      <td>0.223713</td>\n      <td>-0.004259</td>\n    </tr>\n    <tr>\n      <th>903</th>\n      <td>9958</td>\n      <td>100.0</td>\n      <td>100.00</td>\n      <td>9.06</td>\n      <td>0.95</td>\n      <td>0.97</td>\n      <td>0.36</td>\n      <td>96.00</td>\n      <td>19.27</td>\n      <td>22.24</td>\n      <td>...</td>\n      <td>11.11</td>\n      <td>10.61</td>\n      <td>22.79</td>\n      <td>3</td>\n      <td>20.05</td>\n      <td>0</td>\n      <td>-0.002802</td>\n      <td>-0.008864</td>\n      <td>0.127218</td>\n      <td>-0.013036</td>\n    </tr>\n  </tbody>\n</table>\n<p>904 rows × 34 columns</p>\n</div>",
      "text/plain": "     Company Code  Average attendance of Chairman of the Board  \\\n0            1101                                        100.0   \n1            1102                                        100.0   \n2            1103                                        100.0   \n3            1104                                        100.0   \n4            1108                                        100.0   \n..            ...                                          ...   \n899          9944                                        100.0   \n900          9945                                        100.0   \n901          9946                                        100.0   \n902          9955                                        100.0   \n903          9958                                        100.0   \n\n     Average attendance of the Board of Directors  \\\n0                                           96.19   \n1                                           96.94   \n2                                           95.24   \n3                                          100.00   \n4                                          100.00   \n..                                            ...   \n899                                        100.00   \n900                                         87.18   \n901                                        100.00   \n902                                         93.65   \n903                                        100.00   \n\n     Directors average hours of study  \\\n0                                8.13   \n1                                5.79   \n2                               15.00   \n3                                8.14   \n4                                6.29   \n..                                ...   \n899                              8.14   \n900                              6.33   \n901                              8.71   \n902                              8.57   \n903                              9.06   \n\n     Directors liability insurance coverage to net value percentage  \\\n0                                                 0.61                \n1                                                 0.15                \n2                                                 0.76                \n3                                                 0.43                \n4                                                 1.40                \n..                                                 ...                \n899                                               2.55                \n900                                               0.02                \n901                                               0.86                \n902                                               5.60                \n903                                               0.95                \n\n     Directors liability insurance coverage to revenue percentage  \\\n0                                                 1.29              \n1                                                 0.31              \n2                                                 8.92              \n3                                                 1.37              \n4                                                 1.72              \n..                                                 ...              \n899                                               3.20              \n900                                               0.10              \n901                                               3.26              \n902                                               5.63              \n903                                               0.97              \n\n     Directors liability insurance coverage to total assets percentage  \\\n0                                                 0.31                   \n1                                                 0.09                   \n2                                                 0.49                   \n3                                                 0.33                   \n4                                                 0.81                   \n..                                                 ...                   \n899                                               1.47                   \n900                                               0.01                   \n901                                               0.37                   \n902                                               2.92                   \n903                                               0.36                   \n\n     Directors liability insurance coverage  Directors salary  \\\n0                                   1384.00            210.45   \n1                                    279.25            161.97   \n2                                    198.00              9.66   \n3                                     82.98             20.86   \n4                                     64.84             16.62   \n..                                      ...               ...   \n899                                   83.54              5.43   \n900                                   28.39              0.00   \n901                                   56.02              2.16   \n902                                   83.61              0.00   \n903                                   96.00             19.27   \n\n     Employee bonus cash  ...  \\\n0                 106.91  ...   \n1                 185.11  ...   \n2                   9.66  ...   \n3                  20.86  ...   \n4                   9.97  ...   \n..                   ...  ...   \n899                16.30  ...   \n900                48.50  ...   \n901                 2.16  ...   \n902                 0.00  ...   \n903                22.24  ...   \n\n     Proportion of supervisors with doctoral degrees  \\\n0                                              33.33   \n1                                              42.86   \n2                                              28.57   \n3                                              28.57   \n4                                              28.57   \n..                                               ...   \n899                                            14.29   \n900                                            33.33   \n901                                             0.00   \n902                                             0.00   \n903                                            11.11   \n\n     Reinvestment to assets ratio  Reinvestment to net value ratio  \\\n0                           25.02                            42.09   \n1                           43.69                            81.44   \n2                           54.04                            83.11   \n3                           49.47                            62.73   \n4                            3.15                             5.60   \n..                            ...                              ...   \n899                          3.09                             5.47   \n900                         75.30                           117.38   \n901                          1.28                             3.00   \n902                          2.23                             4.22   \n903                         10.61                            22.79   \n\n     Sales percentage to related parties  \\\n0                                      2   \n1                                      4   \n2                                      2   \n3                                      2   \n4                                      2   \n..                                   ...   \n899                                    2   \n900                                    2   \n901                                   24   \n902                                    0   \n903                                    3   \n\n     tockholding of Directors and Supervisors  \\\n0                                       13.56   \n1                                       28.82   \n2                                       17.11   \n3                                       24.16   \n4                                        3.95   \n..                                        ...   \n899                                     26.67   \n900                                     27.81   \n901                                     14.74   \n902                                     39.16   \n903                                     20.05   \n\n     Total social responsibility events  abnormal_returns  t-1~t CAR  \\\n0                                     0         -0.013762  -0.008849   \n1                                     0         -0.027681  -0.018628   \n2                                     0         -0.000896   0.054467   \n3                                     0         -0.009236   0.028828   \n4                                     0         -0.016942   0.067107   \n..                                  ...               ...        ...   \n899                                   0          0.099506   0.000808   \n900                                   0         -0.027475  -0.022900   \n901                                   0          0.005211   0.008434   \n902                                   0          0.042488   0.059956   \n903                                   0         -0.002802  -0.008864   \n\n     t-3~t+3 CAR  FX factor  \n0       0.031854   0.008557  \n1       0.008026   0.008672  \n2       0.148769   0.016901  \n3       0.158891   0.007664  \n4       0.213550   0.014678  \n..           ...        ...  \n899    -0.043283   0.005586  \n900     0.051035  -0.001030  \n901     0.136333   0.000707  \n902     0.223713  -0.004259  \n903     0.127218  -0.013036  \n\n[904 rows x 34 columns]"
     },
     "execution_count": 11,
     "metadata": {},
     "output_type": "execute_result"
    }
   ],
   "source": [
    "event_210514.rename(columns = {'Unnamed: 0':'Company Code'}, inplace = True)\n",
    "event_210514"
   ]
  },
  {
   "cell_type": "code",
   "execution_count": 14,
   "metadata": {},
   "outputs": [
    {
     "name": "stdout",
     "output_type": "stream",
     "text": [
      "                            OLS Regression Results                            \n",
      "==============================================================================\n",
      "Dep. Variable:              t-1~t CAR   R-squared:                       0.028\n",
      "Model:                            OLS   Adj. R-squared:                  0.024\n",
      "Method:                 Least Squares   F-statistic:                     6.578\n",
      "Date:                Mon, 20 Mar 2023   Prob (F-statistic):           3.22e-05\n",
      "Time:                        00:30:29   Log-Likelihood:                 1398.2\n",
      "No. Observations:                 904   AIC:                            -2786.\n",
      "Df Residuals:                     899   BIC:                            -2762.\n",
      "Df Model:                           4                                         \n",
      "Covariance Type:            nonrobust                                         \n",
      "===============================================================================================================\n",
      "                                                  coef    std err          t      P>|t|      [0.025      0.975]\n",
      "---------------------------------------------------------------------------------------------------------------\n",
      "const                                          -0.0056      0.015     -0.376      0.707      -0.035       0.023\n",
      "Average attendance of Chairman of the Board     0.0001      0.000      0.815      0.415      -0.000       0.000\n",
      "Reinvestment to assets ratio                    0.0002      0.000      2.241      0.025    3.08e-05       0.000\n",
      "Directors liability insurance coverage      -1.181e-05   4.01e-06     -2.948      0.003   -1.97e-05   -3.95e-06\n",
      "FX factor                                       0.7213      0.204      3.540      0.000       0.321       1.121\n",
      "==============================================================================\n",
      "Omnibus:                      156.942   Durbin-Watson:                   1.366\n",
      "Prob(Omnibus):                  0.000   Jarque-Bera (JB):              430.757\n",
      "Skew:                           0.886   Prob(JB):                     2.90e-94\n",
      "Kurtosis:                       5.880   Cond. No.                     6.03e+04\n",
      "==============================================================================\n",
      "\n",
      "Notes:\n",
      "[1] Standard Errors assume that the covariance matrix of the errors is correctly specified.\n",
      "[2] The condition number is large, 6.03e+04. This might indicate that there are\n",
      "strong multicollinearity or other numerical problems.\n"
     ]
    }
   ],
   "source": [
    "X = event_210514[['Average attendance of Chairman of the Board', 'Reinvestment to assets ratio','Directors liability insurance coverage', 'FX factor']]\n",
    "y = event_210514['t-1~t CAR']\n",
    "X = sm.add_constant(X)\n",
    "test1_model = sm.OLS(y, X).fit()\n",
    "print(test1_model.summary())\n",
    "intercept, b1, b2, b3, b4 = test1_model.params"
   ]
  }
 ],
 "metadata": {
  "kernelspec": {
   "display_name": "Python 3.9.1 64-bit",
   "metadata": {
    "interpreter": {
     "hash": "aee8b7b246df8f9039afb4144a1f6fd8d2ca17a180786b69acc140d282b71a49"
    }
   },
   "name": "python3"
  },
  "language_info": {
   "codemirror_mode": {
    "name": "ipython",
    "version": 3
   },
   "file_extension": ".py",
   "mimetype": "text/x-python",
   "name": "python",
   "nbconvert_exporter": "python",
   "pygments_lexer": "ipython3",
   "version": "3.9.1"
  },
  "orig_nbformat": 2
 },
 "nbformat": 4,
 "nbformat_minor": 2
}