{
 "cells": [
  {
   "cell_type": "code",
   "execution_count": 1,
   "metadata": {},
   "outputs": [
    {
     "data": {
      "text/html": "<div>\n<style scoped>\n    .dataframe tbody tr th:only-of-type {\n        vertical-align: middle;\n    }\n\n    .dataframe tbody tr th {\n        vertical-align: top;\n    }\n\n    .dataframe thead th {\n        text-align: right;\n    }\n</style>\n<table border=\"1\" class=\"dataframe\">\n  <thead>\n    <tr style=\"text-align: right;\">\n      <th></th>\n      <th>Date</th>\n      <th>market</th>\n      <th>rf</th>\n      <th>SMB</th>\n      <th>HML</th>\n    </tr>\n  </thead>\n  <tbody>\n    <tr>\n      <th>0</th>\n      <td>2020-01-02</td>\n      <td>0.008614</td>\n      <td>0.652</td>\n      <td>-0.107038</td>\n      <td>0.366657</td>\n    </tr>\n    <tr>\n      <th>1</th>\n      <td>2020-01-03</td>\n      <td>0.000822</td>\n      <td>0.632</td>\n      <td>-0.103458</td>\n      <td>-0.065197</td>\n    </tr>\n    <tr>\n      <th>2</th>\n      <td>2020-01-06</td>\n      <td>-0.012970</td>\n      <td>0.623</td>\n      <td>0.103686</td>\n      <td>-0.360716</td>\n    </tr>\n    <tr>\n      <th>3</th>\n      <td>2020-01-07</td>\n      <td>-0.006110</td>\n      <td>0.623</td>\n      <td>0.036410</td>\n      <td>-0.116784</td>\n    </tr>\n    <tr>\n      <th>4</th>\n      <td>2020-01-08</td>\n      <td>-0.005321</td>\n      <td>0.623</td>\n      <td>-0.040028</td>\n      <td>0.052447</td>\n    </tr>\n    <tr>\n      <th>...</th>\n      <td>...</td>\n      <td>...</td>\n      <td>...</td>\n      <td>...</td>\n      <td>...</td>\n    </tr>\n    <tr>\n      <th>714</th>\n      <td>2022-12-05</td>\n      <td>0.000672</td>\n      <td>1.355</td>\n      <td>0.165858</td>\n      <td>-0.036654</td>\n    </tr>\n    <tr>\n      <th>715</th>\n      <td>2022-12-06</td>\n      <td>-0.016812</td>\n      <td>1.365</td>\n      <td>0.070774</td>\n      <td>-0.351898</td>\n    </tr>\n    <tr>\n      <th>716</th>\n      <td>2022-12-07</td>\n      <td>-0.006713</td>\n      <td>1.265</td>\n      <td>-0.015823</td>\n      <td>-0.187179</td>\n    </tr>\n    <tr>\n      <th>717</th>\n      <td>2022-12-08</td>\n      <td>-0.005261</td>\n      <td>1.250</td>\n      <td>0.139725</td>\n      <td>-0.115378</td>\n    </tr>\n    <tr>\n      <th>718</th>\n      <td>2022-12-09</td>\n      <td>0.010471</td>\n      <td>1.284</td>\n      <td>-0.168528</td>\n      <td>0.345984</td>\n    </tr>\n  </tbody>\n</table>\n<p>719 rows × 5 columns</p>\n</div>",
      "text/plain": "           Date    market     rf       SMB       HML\n0    2020-01-02  0.008614  0.652 -0.107038  0.366657\n1    2020-01-03  0.000822  0.632 -0.103458 -0.065197\n2    2020-01-06 -0.012970  0.623  0.103686 -0.360716\n3    2020-01-07 -0.006110  0.623  0.036410 -0.116784\n4    2020-01-08 -0.005321  0.623 -0.040028  0.052447\n..          ...       ...    ...       ...       ...\n714  2022-12-05  0.000672  1.355  0.165858 -0.036654\n715  2022-12-06 -0.016812  1.365  0.070774 -0.351898\n716  2022-12-07 -0.006713  1.265 -0.015823 -0.187179\n717  2022-12-08 -0.005261  1.250  0.139725 -0.115378\n718  2022-12-09  0.010471  1.284 -0.168528  0.345984\n\n[719 rows x 5 columns]"
     },
     "execution_count": 1,
     "metadata": {},
     "output_type": "execute_result"
    }
   ],
   "source": [
    "import pandas as pd\n",
    "import statsmodels.api as sm\n",
    "import numpy as np\n",
    "import matplotlib.pyplot as plt\n",
    "\n",
    "df1 = pd.read_csv('/Users/lofang/Desktop/python/csv files/ff_table_copy.csv')\n",
    "df2 = df1.dropna().reset_index(drop=True)\n",
    "df2"
   ]
  },
  {
   "cell_type": "code",
   "execution_count": 2,
   "metadata": {},
   "outputs": [
    {
     "data": {
      "text/html": "<div>\n<style scoped>\n    .dataframe tbody tr th:only-of-type {\n        vertical-align: middle;\n    }\n\n    .dataframe tbody tr th {\n        vertical-align: top;\n    }\n\n    .dataframe thead th {\n        text-align: right;\n    }\n</style>\n<table border=\"1\" class=\"dataframe\">\n  <thead>\n    <tr style=\"text-align: right;\">\n      <th></th>\n      <th>Date</th>\n      <th>market</th>\n      <th>rf</th>\n      <th>SMB</th>\n      <th>HML</th>\n    </tr>\n  </thead>\n  <tbody>\n    <tr>\n      <th>0</th>\n      <td>2020-01-02</td>\n      <td>0.008614</td>\n      <td>0.00652</td>\n      <td>-0.107038</td>\n      <td>0.366657</td>\n    </tr>\n    <tr>\n      <th>1</th>\n      <td>2020-01-03</td>\n      <td>0.000822</td>\n      <td>0.00632</td>\n      <td>-0.103458</td>\n      <td>-0.065197</td>\n    </tr>\n    <tr>\n      <th>2</th>\n      <td>2020-01-06</td>\n      <td>-0.012970</td>\n      <td>0.00623</td>\n      <td>0.103686</td>\n      <td>-0.360716</td>\n    </tr>\n    <tr>\n      <th>3</th>\n      <td>2020-01-07</td>\n      <td>-0.006110</td>\n      <td>0.00623</td>\n      <td>0.036410</td>\n      <td>-0.116784</td>\n    </tr>\n    <tr>\n      <th>4</th>\n      <td>2020-01-08</td>\n      <td>-0.005321</td>\n      <td>0.00623</td>\n      <td>-0.040028</td>\n      <td>0.052447</td>\n    </tr>\n    <tr>\n      <th>...</th>\n      <td>...</td>\n      <td>...</td>\n      <td>...</td>\n      <td>...</td>\n      <td>...</td>\n    </tr>\n    <tr>\n      <th>714</th>\n      <td>2022-12-05</td>\n      <td>0.000672</td>\n      <td>0.01355</td>\n      <td>0.165858</td>\n      <td>-0.036654</td>\n    </tr>\n    <tr>\n      <th>715</th>\n      <td>2022-12-06</td>\n      <td>-0.016812</td>\n      <td>0.01365</td>\n      <td>0.070774</td>\n      <td>-0.351898</td>\n    </tr>\n    <tr>\n      <th>716</th>\n      <td>2022-12-07</td>\n      <td>-0.006713</td>\n      <td>0.01265</td>\n      <td>-0.015823</td>\n      <td>-0.187179</td>\n    </tr>\n    <tr>\n      <th>717</th>\n      <td>2022-12-08</td>\n      <td>-0.005261</td>\n      <td>0.01250</td>\n      <td>0.139725</td>\n      <td>-0.115378</td>\n    </tr>\n    <tr>\n      <th>718</th>\n      <td>2022-12-09</td>\n      <td>0.010471</td>\n      <td>0.01284</td>\n      <td>-0.168528</td>\n      <td>0.345984</td>\n    </tr>\n  </tbody>\n</table>\n<p>719 rows × 5 columns</p>\n</div>",
      "text/plain": "           Date    market       rf       SMB       HML\n0    2020-01-02  0.008614  0.00652 -0.107038  0.366657\n1    2020-01-03  0.000822  0.00632 -0.103458 -0.065197\n2    2020-01-06 -0.012970  0.00623  0.103686 -0.360716\n3    2020-01-07 -0.006110  0.00623  0.036410 -0.116784\n4    2020-01-08 -0.005321  0.00623 -0.040028  0.052447\n..          ...       ...      ...       ...       ...\n714  2022-12-05  0.000672  0.01355  0.165858 -0.036654\n715  2022-12-06 -0.016812  0.01365  0.070774 -0.351898\n716  2022-12-07 -0.006713  0.01265 -0.015823 -0.187179\n717  2022-12-08 -0.005261  0.01250  0.139725 -0.115378\n718  2022-12-09  0.010471  0.01284 -0.168528  0.345984\n\n[719 rows x 5 columns]"
     },
     "execution_count": 2,
     "metadata": {},
     "output_type": "execute_result"
    }
   ],
   "source": [
    "df2['rf'] = df2['rf']*0.01\n",
    "df2"
   ]
  },
  {
   "cell_type": "code",
   "execution_count": 4,
   "metadata": {},
   "outputs": [
    {
     "data": {
      "text/html": "<div>\n<style scoped>\n    .dataframe tbody tr th:only-of-type {\n        vertical-align: middle;\n    }\n\n    .dataframe tbody tr th {\n        vertical-align: top;\n    }\n\n    .dataframe thead th {\n        text-align: right;\n    }\n</style>\n<table border=\"1\" class=\"dataframe\">\n  <thead>\n    <tr style=\"text-align: right;\">\n      <th></th>\n      <th>Date</th>\n      <th>Open</th>\n      <th>High</th>\n      <th>Low</th>\n      <th>Close</th>\n      <th>Adj Close</th>\n      <th>Volume</th>\n    </tr>\n  </thead>\n  <tbody>\n    <tr>\n      <th>0</th>\n      <td>2020-01-02</td>\n      <td>332.5</td>\n      <td>339.0</td>\n      <td>332.5</td>\n      <td>339.0</td>\n      <td>318.791107</td>\n      <td>31754120</td>\n    </tr>\n    <tr>\n      <th>1</th>\n      <td>2020-01-03</td>\n      <td>344.0</td>\n      <td>345.0</td>\n      <td>335.5</td>\n      <td>339.5</td>\n      <td>319.261383</td>\n      <td>41811268</td>\n    </tr>\n    <tr>\n      <th>2</th>\n      <td>2020-01-06</td>\n      <td>333.0</td>\n      <td>334.5</td>\n      <td>332.0</td>\n      <td>332.0</td>\n      <td>312.208405</td>\n      <td>45343057</td>\n    </tr>\n    <tr>\n      <th>3</th>\n      <td>2020-01-07</td>\n      <td>332.5</td>\n      <td>333.0</td>\n      <td>326.5</td>\n      <td>329.5</td>\n      <td>309.857452</td>\n      <td>50879181</td>\n    </tr>\n    <tr>\n      <th>4</th>\n      <td>2020-01-08</td>\n      <td>325.0</td>\n      <td>333.0</td>\n      <td>325.0</td>\n      <td>329.5</td>\n      <td>309.857452</td>\n      <td>37567748</td>\n    </tr>\n    <tr>\n      <th>...</th>\n      <td>...</td>\n      <td>...</td>\n      <td>...</td>\n      <td>...</td>\n      <td>...</td>\n      <td>...</td>\n      <td>...</td>\n    </tr>\n    <tr>\n      <th>714</th>\n      <td>2022-12-05</td>\n      <td>491.5</td>\n      <td>497.5</td>\n      <td>489.0</td>\n      <td>489.0</td>\n      <td>489.000000</td>\n      <td>28360444</td>\n    </tr>\n    <tr>\n      <th>715</th>\n      <td>2022-12-06</td>\n      <td>488.0</td>\n      <td>489.0</td>\n      <td>478.0</td>\n      <td>478.0</td>\n      <td>478.000000</td>\n      <td>40561068</td>\n    </tr>\n    <tr>\n      <th>716</th>\n      <td>2022-12-07</td>\n      <td>477.0</td>\n      <td>485.5</td>\n      <td>475.0</td>\n      <td>475.0</td>\n      <td>475.000000</td>\n      <td>36563503</td>\n    </tr>\n    <tr>\n      <th>717</th>\n      <td>2022-12-08</td>\n      <td>475.0</td>\n      <td>475.0</td>\n      <td>467.0</td>\n      <td>471.5</td>\n      <td>471.500000</td>\n      <td>27238567</td>\n    </tr>\n    <tr>\n      <th>718</th>\n      <td>2022-12-09</td>\n      <td>478.0</td>\n      <td>484.5</td>\n      <td>476.0</td>\n      <td>481.5</td>\n      <td>481.500000</td>\n      <td>25915337</td>\n    </tr>\n  </tbody>\n</table>\n<p>719 rows × 7 columns</p>\n</div>",
      "text/plain": "           Date   Open   High    Low  Close   Adj Close    Volume\n0    2020-01-02  332.5  339.0  332.5  339.0  318.791107  31754120\n1    2020-01-03  344.0  345.0  335.5  339.5  319.261383  41811268\n2    2020-01-06  333.0  334.5  332.0  332.0  312.208405  45343057\n3    2020-01-07  332.5  333.0  326.5  329.5  309.857452  50879181\n4    2020-01-08  325.0  333.0  325.0  329.5  309.857452  37567748\n..          ...    ...    ...    ...    ...         ...       ...\n714  2022-12-05  491.5  497.5  489.0  489.0  489.000000  28360444\n715  2022-12-06  488.0  489.0  478.0  478.0  478.000000  40561068\n716  2022-12-07  477.0  485.5  475.0  475.0  475.000000  36563503\n717  2022-12-08  475.0  475.0  467.0  471.5  471.500000  27238567\n718  2022-12-09  478.0  484.5  476.0  481.5  481.500000  25915337\n\n[719 rows x 7 columns]"
     },
     "execution_count": 4,
     "metadata": {},
     "output_type": "execute_result"
    }
   ],
   "source": [
    "tsmc = pd.read_csv('/Users/lofang/Desktop/python/csv files/2330.TW.csv')\n",
    "tsmc\n"
   ]
  },
  {
   "cell_type": "code",
   "execution_count": 5,
   "metadata": {},
   "outputs": [
    {
     "data": {
      "text/html": "<div>\n<style scoped>\n    .dataframe tbody tr th:only-of-type {\n        vertical-align: middle;\n    }\n\n    .dataframe tbody tr th {\n        vertical-align: top;\n    }\n\n    .dataframe thead th {\n        text-align: right;\n    }\n</style>\n<table border=\"1\" class=\"dataframe\">\n  <thead>\n    <tr style=\"text-align: right;\">\n      <th></th>\n      <th>Date</th>\n      <th>Open</th>\n      <th>High</th>\n      <th>Low</th>\n      <th>Close</th>\n      <th>Adj Close</th>\n      <th>Volume</th>\n      <th>Daily_Return</th>\n    </tr>\n  </thead>\n  <tbody>\n    <tr>\n      <th>0</th>\n      <td>2020-01-02</td>\n      <td>332.5</td>\n      <td>339.0</td>\n      <td>332.5</td>\n      <td>339.0</td>\n      <td>318.791107</td>\n      <td>31754120</td>\n      <td>NaN</td>\n    </tr>\n    <tr>\n      <th>1</th>\n      <td>2020-01-03</td>\n      <td>344.0</td>\n      <td>345.0</td>\n      <td>335.5</td>\n      <td>339.5</td>\n      <td>319.261383</td>\n      <td>41811268</td>\n      <td>0.001475</td>\n    </tr>\n    <tr>\n      <th>2</th>\n      <td>2020-01-06</td>\n      <td>333.0</td>\n      <td>334.5</td>\n      <td>332.0</td>\n      <td>332.0</td>\n      <td>312.208405</td>\n      <td>45343057</td>\n      <td>-0.022092</td>\n    </tr>\n    <tr>\n      <th>3</th>\n      <td>2020-01-07</td>\n      <td>332.5</td>\n      <td>333.0</td>\n      <td>326.5</td>\n      <td>329.5</td>\n      <td>309.857452</td>\n      <td>50879181</td>\n      <td>-0.007530</td>\n    </tr>\n    <tr>\n      <th>4</th>\n      <td>2020-01-08</td>\n      <td>325.0</td>\n      <td>333.0</td>\n      <td>325.0</td>\n      <td>329.5</td>\n      <td>309.857452</td>\n      <td>37567748</td>\n      <td>0.000000</td>\n    </tr>\n    <tr>\n      <th>...</th>\n      <td>...</td>\n      <td>...</td>\n      <td>...</td>\n      <td>...</td>\n      <td>...</td>\n      <td>...</td>\n      <td>...</td>\n      <td>...</td>\n    </tr>\n    <tr>\n      <th>714</th>\n      <td>2022-12-05</td>\n      <td>491.5</td>\n      <td>497.5</td>\n      <td>489.0</td>\n      <td>489.0</td>\n      <td>489.000000</td>\n      <td>28360444</td>\n      <td>-0.007107</td>\n    </tr>\n    <tr>\n      <th>715</th>\n      <td>2022-12-06</td>\n      <td>488.0</td>\n      <td>489.0</td>\n      <td>478.0</td>\n      <td>478.0</td>\n      <td>478.000000</td>\n      <td>40561068</td>\n      <td>-0.022495</td>\n    </tr>\n    <tr>\n      <th>716</th>\n      <td>2022-12-07</td>\n      <td>477.0</td>\n      <td>485.5</td>\n      <td>475.0</td>\n      <td>475.0</td>\n      <td>475.000000</td>\n      <td>36563503</td>\n      <td>-0.006276</td>\n    </tr>\n    <tr>\n      <th>717</th>\n      <td>2022-12-08</td>\n      <td>475.0</td>\n      <td>475.0</td>\n      <td>467.0</td>\n      <td>471.5</td>\n      <td>471.500000</td>\n      <td>27238567</td>\n      <td>-0.007368</td>\n    </tr>\n    <tr>\n      <th>718</th>\n      <td>2022-12-09</td>\n      <td>478.0</td>\n      <td>484.5</td>\n      <td>476.0</td>\n      <td>481.5</td>\n      <td>481.500000</td>\n      <td>25915337</td>\n      <td>0.021209</td>\n    </tr>\n  </tbody>\n</table>\n<p>719 rows × 8 columns</p>\n</div>",
      "text/plain": "           Date   Open   High    Low  Close   Adj Close    Volume  \\\n0    2020-01-02  332.5  339.0  332.5  339.0  318.791107  31754120   \n1    2020-01-03  344.0  345.0  335.5  339.5  319.261383  41811268   \n2    2020-01-06  333.0  334.5  332.0  332.0  312.208405  45343057   \n3    2020-01-07  332.5  333.0  326.5  329.5  309.857452  50879181   \n4    2020-01-08  325.0  333.0  325.0  329.5  309.857452  37567748   \n..          ...    ...    ...    ...    ...         ...       ...   \n714  2022-12-05  491.5  497.5  489.0  489.0  489.000000  28360444   \n715  2022-12-06  488.0  489.0  478.0  478.0  478.000000  40561068   \n716  2022-12-07  477.0  485.5  475.0  475.0  475.000000  36563503   \n717  2022-12-08  475.0  475.0  467.0  471.5  471.500000  27238567   \n718  2022-12-09  478.0  484.5  476.0  481.5  481.500000  25915337   \n\n     Daily_Return  \n0             NaN  \n1        0.001475  \n2       -0.022092  \n3       -0.007530  \n4        0.000000  \n..            ...  \n714     -0.007107  \n715     -0.022495  \n716     -0.006276  \n717     -0.007368  \n718      0.021209  \n\n[719 rows x 8 columns]"
     },
     "execution_count": 5,
     "metadata": {},
     "output_type": "execute_result"
    }
   ],
   "source": [
    "tsmc['Daily_Return'] = tsmc['Adj Close'].pct_change().dropna()\n",
    "tsmc"
   ]
  },
  {
   "cell_type": "code",
   "execution_count": 6,
   "metadata": {},
   "outputs": [
    {
     "data": {
      "text/html": "<div>\n<style scoped>\n    .dataframe tbody tr th:only-of-type {\n        vertical-align: middle;\n    }\n\n    .dataframe tbody tr th {\n        vertical-align: top;\n    }\n\n    .dataframe thead th {\n        text-align: right;\n    }\n</style>\n<table border=\"1\" class=\"dataframe\">\n  <thead>\n    <tr style=\"text-align: right;\">\n      <th></th>\n      <th>Date</th>\n      <th>market</th>\n      <th>rf</th>\n      <th>SMB</th>\n      <th>HML</th>\n      <th>Daily_Return</th>\n      <th>mkt-rf</th>\n    </tr>\n  </thead>\n  <tbody>\n    <tr>\n      <th>1</th>\n      <td>2020-01-03</td>\n      <td>0.000822</td>\n      <td>0.00632</td>\n      <td>-0.103458</td>\n      <td>-0.065197</td>\n      <td>0.001475</td>\n      <td>-0.005498</td>\n    </tr>\n    <tr>\n      <th>2</th>\n      <td>2020-01-06</td>\n      <td>-0.012970</td>\n      <td>0.00623</td>\n      <td>0.103686</td>\n      <td>-0.360716</td>\n      <td>-0.022092</td>\n      <td>-0.019200</td>\n    </tr>\n    <tr>\n      <th>3</th>\n      <td>2020-01-07</td>\n      <td>-0.006110</td>\n      <td>0.00623</td>\n      <td>0.036410</td>\n      <td>-0.116784</td>\n      <td>-0.007530</td>\n      <td>-0.012340</td>\n    </tr>\n    <tr>\n      <th>4</th>\n      <td>2020-01-08</td>\n      <td>-0.005321</td>\n      <td>0.00623</td>\n      <td>-0.040028</td>\n      <td>0.052447</td>\n      <td>0.000000</td>\n      <td>-0.011551</td>\n    </tr>\n    <tr>\n      <th>5</th>\n      <td>2020-01-09</td>\n      <td>0.012992</td>\n      <td>0.00627</td>\n      <td>-0.086832</td>\n      <td>0.462107</td>\n      <td>0.024279</td>\n      <td>0.006722</td>\n    </tr>\n    <tr>\n      <th>...</th>\n      <td>...</td>\n      <td>...</td>\n      <td>...</td>\n      <td>...</td>\n      <td>...</td>\n      <td>...</td>\n      <td>...</td>\n    </tr>\n    <tr>\n      <th>714</th>\n      <td>2022-12-05</td>\n      <td>0.000672</td>\n      <td>0.01355</td>\n      <td>0.165858</td>\n      <td>-0.036654</td>\n      <td>-0.007107</td>\n      <td>-0.012878</td>\n    </tr>\n    <tr>\n      <th>715</th>\n      <td>2022-12-06</td>\n      <td>-0.016812</td>\n      <td>0.01365</td>\n      <td>0.070774</td>\n      <td>-0.351898</td>\n      <td>-0.022495</td>\n      <td>-0.030462</td>\n    </tr>\n    <tr>\n      <th>716</th>\n      <td>2022-12-07</td>\n      <td>-0.006713</td>\n      <td>0.01265</td>\n      <td>-0.015823</td>\n      <td>-0.187179</td>\n      <td>-0.006276</td>\n      <td>-0.019363</td>\n    </tr>\n    <tr>\n      <th>717</th>\n      <td>2022-12-08</td>\n      <td>-0.005261</td>\n      <td>0.01250</td>\n      <td>0.139725</td>\n      <td>-0.115378</td>\n      <td>-0.007368</td>\n      <td>-0.017761</td>\n    </tr>\n    <tr>\n      <th>718</th>\n      <td>2022-12-09</td>\n      <td>0.010471</td>\n      <td>0.01284</td>\n      <td>-0.168528</td>\n      <td>0.345984</td>\n      <td>0.021209</td>\n      <td>-0.002369</td>\n    </tr>\n  </tbody>\n</table>\n<p>718 rows × 7 columns</p>\n</div>",
      "text/plain": "           Date    market       rf       SMB       HML  Daily_Return    mkt-rf\n1    2020-01-03  0.000822  0.00632 -0.103458 -0.065197      0.001475 -0.005498\n2    2020-01-06 -0.012970  0.00623  0.103686 -0.360716     -0.022092 -0.019200\n3    2020-01-07 -0.006110  0.00623  0.036410 -0.116784     -0.007530 -0.012340\n4    2020-01-08 -0.005321  0.00623 -0.040028  0.052447      0.000000 -0.011551\n5    2020-01-09  0.012992  0.00627 -0.086832  0.462107      0.024279  0.006722\n..          ...       ...      ...       ...       ...           ...       ...\n714  2022-12-05  0.000672  0.01355  0.165858 -0.036654     -0.007107 -0.012878\n715  2022-12-06 -0.016812  0.01365  0.070774 -0.351898     -0.022495 -0.030462\n716  2022-12-07 -0.006713  0.01265 -0.015823 -0.187179     -0.006276 -0.019363\n717  2022-12-08 -0.005261  0.01250  0.139725 -0.115378     -0.007368 -0.017761\n718  2022-12-09  0.010471  0.01284 -0.168528  0.345984      0.021209 -0.002369\n\n[718 rows x 7 columns]"
     },
     "execution_count": 6,
     "metadata": {},
     "output_type": "execute_result"
    }
   ],
   "source": [
    "df2['Daily_Return'] = tsmc['Daily_Return']\n",
    "df2['mkt-rf'] = df2['market'] - df2['rf']\n",
    "df3 = df2.drop(index = 0)\n",
    "df3"
   ]
  },
  {
   "cell_type": "code",
   "execution_count": 7,
   "metadata": {},
   "outputs": [
    {
     "name": "stdout",
     "output_type": "stream",
     "text": [
      "                            OLS Regression Results                            \n",
      "==============================================================================\n",
      "Dep. Variable:                      y   R-squared:                       0.950\n",
      "Model:                            OLS   Adj. R-squared:                  0.949\n",
      "Method:                 Least Squares   F-statistic:                     4487.\n",
      "Date:                Thu, 15 Dec 2022   Prob (F-statistic):               0.00\n",
      "Time:                        13:06:05   Log-Likelihood:                 2901.2\n",
      "No. Observations:                 718   AIC:                            -5794.\n",
      "Df Residuals:                     714   BIC:                            -5776.\n",
      "Df Model:                           3                                         \n",
      "Covariance Type:            nonrobust                                         \n",
      "==============================================================================\n",
      "                 coef    std err          t      P>|t|      [0.025      0.975]\n",
      "------------------------------------------------------------------------------\n",
      "const         -0.0009      0.000     -3.922      0.000      -0.001      -0.000\n",
      "mkt-rf         0.8062      0.025     32.630      0.000       0.758       0.855\n",
      "SMB           -0.0384      0.001    -25.986      0.000      -0.041      -0.035\n",
      "HML            0.0159      0.001     12.822      0.000       0.013       0.018\n",
      "==============================================================================\n",
      "Omnibus:                      786.731   Durbin-Watson:                   1.948\n",
      "Prob(Omnibus):                  0.000   Jarque-Bera (JB):           149771.916\n",
      "Skew:                           4.727   Prob(JB):                         0.00\n",
      "Kurtosis:                      73.121   Cond. No.                         155.\n",
      "==============================================================================\n",
      "\n",
      "Notes:\n",
      "[1] Standard Errors assume that the covariance matrix of the errors is correctly specified.\n"
     ]
    }
   ],
   "source": [
    "X = df3[['mkt-rf', 'SMB', 'HML']]\n",
    "y = df3['Daily_Return'] - df3['rf']\n",
    "X = sm.add_constant(X)\n",
    "ff_model = sm.OLS(y, X).fit()\n",
    "print(ff_model.summary())\n",
    "intercept, b1, b2, b3 = ff_model.params"
   ]
  },
  {
   "cell_type": "code",
   "execution_count": 8,
   "metadata": {},
   "outputs": [],
   "source": [
    "def rf(t):\n",
    "    return df3['rf'].loc[t]\n",
    "def market_premium(t):\n",
    "    return df3['mkt-rf'].loc[t]\n",
    "def size_premium(t):\n",
    "    return df3['SMB'].loc[t]\n",
    "def value_premium(t):\n",
    "    return df3['HML'].loc[t]"
   ]
  },
  {
   "cell_type": "code",
   "execution_count": 8,
   "metadata": {},
   "outputs": [
    {
     "name": "stdout",
     "output_type": "stream",
     "text": [
      "Expected daily return: 0.004826099952846789\n"
     ]
    }
   ],
   "source": [
    "# expected_daily_return = rf(1) + b1 * market_premium(1) + b2 * size_premium(1) + b3 * value_premium(1) \n",
    "# print(\"Expected daily return: \" + str(expected_daily_return))"
   ]
  },
  {
   "cell_type": "code",
   "execution_count": 10,
   "metadata": {},
   "outputs": [],
   "source": [
    "def er(t):\n",
    "    return rf(t) + b1 * market_premium(t) + b2 * size_premium(t) + b3 * value_premium(t)"
   ]
  },
  {
   "cell_type": "code",
   "execution_count": 11,
   "metadata": {},
   "outputs": [
    {
     "data": {
      "text/html": "<div>\n<style scoped>\n    .dataframe tbody tr th:only-of-type {\n        vertical-align: middle;\n    }\n\n    .dataframe tbody tr th {\n        vertical-align: top;\n    }\n\n    .dataframe thead th {\n        text-align: right;\n    }\n</style>\n<table border=\"1\" class=\"dataframe\">\n  <thead>\n    <tr style=\"text-align: right;\">\n      <th></th>\n      <th>ER</th>\n    </tr>\n  </thead>\n  <tbody>\n    <tr>\n      <th>1</th>\n      <td>0.004826</td>\n    </tr>\n    <tr>\n      <th>2</th>\n      <td>-0.018951</td>\n    </tr>\n    <tr>\n      <th>3</th>\n      <td>-0.006969</td>\n    </tr>\n    <tr>\n      <th>4</th>\n      <td>-0.000714</td>\n    </tr>\n    <tr>\n      <th>5</th>\n      <td>0.022353</td>\n    </tr>\n    <tr>\n      <th>...</th>\n      <td>...</td>\n    </tr>\n    <tr>\n      <th>714</th>\n      <td>-0.003782</td>\n    </tr>\n    <tr>\n      <th>715</th>\n      <td>-0.019207</td>\n    </tr>\n    <tr>\n      <th>716</th>\n      <td>-0.005321</td>\n    </tr>\n    <tr>\n      <th>717</th>\n      <td>-0.009014</td>\n    </tr>\n    <tr>\n      <th>718</th>\n      <td>0.022889</td>\n    </tr>\n  </tbody>\n</table>\n<p>718 rows × 1 columns</p>\n</div>",
      "text/plain": "           ER\n1    0.004826\n2   -0.018951\n3   -0.006969\n4   -0.000714\n5    0.022353\n..        ...\n714 -0.003782\n715 -0.019207\n716 -0.005321\n717 -0.009014\n718  0.022889\n\n[718 rows x 1 columns]"
     },
     "execution_count": 11,
     "metadata": {},
     "output_type": "execute_result"
    }
   ],
   "source": [
    "expected_daily_return = []\n",
    "abnormal = []\n",
    "for i in range(1,719,1):\n",
    "    a = er(i)\n",
    "    expected_daily_return.append(a)\n",
    "df4 = pd.DataFrame (expected_daily_return, columns = ['ER'])\n",
    "df4.index = df4.index + 1\n",
    "df4\n"
   ]
  },
  {
   "cell_type": "code",
   "execution_count": 12,
   "metadata": {},
   "outputs": [
    {
     "data": {
      "text/html": "<div>\n<style scoped>\n    .dataframe tbody tr th:only-of-type {\n        vertical-align: middle;\n    }\n\n    .dataframe tbody tr th {\n        vertical-align: top;\n    }\n\n    .dataframe thead th {\n        text-align: right;\n    }\n</style>\n<table border=\"1\" class=\"dataframe\">\n  <thead>\n    <tr style=\"text-align: right;\">\n      <th></th>\n      <th>Date</th>\n      <th>market</th>\n      <th>rf</th>\n      <th>SMB</th>\n      <th>HML</th>\n      <th>Daily_Return</th>\n      <th>mkt-rf</th>\n      <th>abnormal_returns</th>\n    </tr>\n  </thead>\n  <tbody>\n    <tr>\n      <th>1</th>\n      <td>2020-01-03</td>\n      <td>0.000822</td>\n      <td>0.00632</td>\n      <td>-0.103458</td>\n      <td>-0.065197</td>\n      <td>0.001475</td>\n      <td>-0.005498</td>\n      <td>0.003351</td>\n    </tr>\n    <tr>\n      <th>2</th>\n      <td>2020-01-06</td>\n      <td>-0.012970</td>\n      <td>0.00623</td>\n      <td>0.103686</td>\n      <td>-0.360716</td>\n      <td>-0.022092</td>\n      <td>-0.019200</td>\n      <td>0.003140</td>\n    </tr>\n    <tr>\n      <th>3</th>\n      <td>2020-01-07</td>\n      <td>-0.006110</td>\n      <td>0.00623</td>\n      <td>0.036410</td>\n      <td>-0.116784</td>\n      <td>-0.007530</td>\n      <td>-0.012340</td>\n      <td>0.000561</td>\n    </tr>\n    <tr>\n      <th>4</th>\n      <td>2020-01-08</td>\n      <td>-0.005321</td>\n      <td>0.00623</td>\n      <td>-0.040028</td>\n      <td>0.052447</td>\n      <td>0.000000</td>\n      <td>-0.011551</td>\n      <td>-0.000714</td>\n    </tr>\n    <tr>\n      <th>5</th>\n      <td>2020-01-09</td>\n      <td>0.012992</td>\n      <td>0.00627</td>\n      <td>-0.086832</td>\n      <td>0.462107</td>\n      <td>0.024279</td>\n      <td>0.006722</td>\n      <td>-0.001926</td>\n    </tr>\n    <tr>\n      <th>...</th>\n      <td>...</td>\n      <td>...</td>\n      <td>...</td>\n      <td>...</td>\n      <td>...</td>\n      <td>...</td>\n      <td>...</td>\n      <td>...</td>\n    </tr>\n    <tr>\n      <th>714</th>\n      <td>2022-12-05</td>\n      <td>0.000672</td>\n      <td>0.01355</td>\n      <td>0.165858</td>\n      <td>-0.036654</td>\n      <td>-0.007107</td>\n      <td>-0.012878</td>\n      <td>0.003325</td>\n    </tr>\n    <tr>\n      <th>715</th>\n      <td>2022-12-06</td>\n      <td>-0.016812</td>\n      <td>0.01365</td>\n      <td>0.070774</td>\n      <td>-0.351898</td>\n      <td>-0.022495</td>\n      <td>-0.030462</td>\n      <td>0.003288</td>\n    </tr>\n    <tr>\n      <th>716</th>\n      <td>2022-12-07</td>\n      <td>-0.006713</td>\n      <td>0.01265</td>\n      <td>-0.015823</td>\n      <td>-0.187179</td>\n      <td>-0.006276</td>\n      <td>-0.019363</td>\n      <td>0.000955</td>\n    </tr>\n    <tr>\n      <th>717</th>\n      <td>2022-12-08</td>\n      <td>-0.005261</td>\n      <td>0.01250</td>\n      <td>0.139725</td>\n      <td>-0.115378</td>\n      <td>-0.007368</td>\n      <td>-0.017761</td>\n      <td>-0.001645</td>\n    </tr>\n    <tr>\n      <th>718</th>\n      <td>2022-12-09</td>\n      <td>0.010471</td>\n      <td>0.01284</td>\n      <td>-0.168528</td>\n      <td>0.345984</td>\n      <td>0.021209</td>\n      <td>-0.002369</td>\n      <td>0.001680</td>\n    </tr>\n  </tbody>\n</table>\n<p>718 rows × 8 columns</p>\n</div>",
      "text/plain": "           Date    market       rf       SMB       HML  Daily_Return  \\\n1    2020-01-03  0.000822  0.00632 -0.103458 -0.065197      0.001475   \n2    2020-01-06 -0.012970  0.00623  0.103686 -0.360716     -0.022092   \n3    2020-01-07 -0.006110  0.00623  0.036410 -0.116784     -0.007530   \n4    2020-01-08 -0.005321  0.00623 -0.040028  0.052447      0.000000   \n5    2020-01-09  0.012992  0.00627 -0.086832  0.462107      0.024279   \n..          ...       ...      ...       ...       ...           ...   \n714  2022-12-05  0.000672  0.01355  0.165858 -0.036654     -0.007107   \n715  2022-12-06 -0.016812  0.01365  0.070774 -0.351898     -0.022495   \n716  2022-12-07 -0.006713  0.01265 -0.015823 -0.187179     -0.006276   \n717  2022-12-08 -0.005261  0.01250  0.139725 -0.115378     -0.007368   \n718  2022-12-09  0.010471  0.01284 -0.168528  0.345984      0.021209   \n\n       mkt-rf  abnormal_returns  \n1   -0.005498          0.003351  \n2   -0.019200          0.003140  \n3   -0.012340          0.000561  \n4   -0.011551         -0.000714  \n5    0.006722         -0.001926  \n..        ...               ...  \n714 -0.012878          0.003325  \n715 -0.030462          0.003288  \n716 -0.019363          0.000955  \n717 -0.017761         -0.001645  \n718 -0.002369          0.001680  \n\n[718 rows x 8 columns]"
     },
     "execution_count": 12,
     "metadata": {},
     "output_type": "execute_result"
    }
   ],
   "source": [
    "df3['abnormal_returns'] = df4['ER'] - df3['Daily_Return']\n",
    "df3"
   ]
  }
 ],
 "metadata": {
  "kernelspec": {
   "display_name": "Python 3",
   "language": "python",
   "name": "python3"
  },
  "language_info": {
   "codemirror_mode": {
    "name": "ipython",
    "version": 3
   },
   "file_extension": ".py",
   "mimetype": "text/x-python",
   "name": "python",
   "nbconvert_exporter": "python",
   "pygments_lexer": "ipython3",
   "version": "3.8.5"
  }
 },
 "nbformat": 4,
 "nbformat_minor": 2
}