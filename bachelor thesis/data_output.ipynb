{
 "cells": [
  {
   "cell_type": "code",
   "execution_count": 16,
   "metadata": {},
   "outputs": [],
   "source": [
    "import pandas as pd\n",
    "import glob"
   ]
  },
  {
   "cell_type": "code",
   "execution_count": 17,
   "metadata": {},
   "outputs": [],
   "source": [
    "def readfile(temp: str) -> pd.core.frame.DataFrame:\n",
    "    temp = pd.read_excel(temp, sheet_name = 'Day')\n",
    "    temp = temp.T\n",
    "    temp.rename(columns=temp.iloc[0], inplace = True)\n",
    "    temp = temp.drop([temp.index[0]])\n",
    "    return temp"
   ]
  },
  {
   "attachments": {},
   "cell_type": "markdown",
   "metadata": {},
   "source": [
    "CAR table & FX table"
   ]
  },
  {
   "cell_type": "code",
   "execution_count": 18,
   "metadata": {},
   "outputs": [],
   "source": [
    "def load_car_fx_df(date: str) -> pd.core.frame.DataFrame:\n",
    "    #CAR\n",
    "    path = 'resources/car_table/'\n",
    "    car_files = glob.glob(path + \"/*.csv\")\n",
    "    for item in car_files: car_files[car_files.index(item)] = item.split('/')[2].split('.')[0]\n",
    "    car_files.sort()\n",
    "    car_df = pd.DataFrame()\n",
    "    for element in car_files:\n",
    "        temp_df = pd.read_csv(f\"resources/car_table/{element}.TW.csv\", index_col=None, header=0)\n",
    "        temp_df[[\"company_code\"]] = f\"{element}\"\n",
    "        temp_df = temp_df.loc[temp_df[\"Date\"] == date].drop([\"Unnamed: 0\", \"Date\"], axis=1)\n",
    "        temp_df = temp_df.set_index(\"company_code\")\n",
    "        car_df = pd.concat([car_df, temp_df])\n",
    "    car_df = car_df[['abnormal_returns','t-1~t CAR', 't-2~t CAR', 't-3~t CAR', 't-3~t+1 CAR', \n",
    "                    't-3~t+2 CAR', 't-3~t+3 CAR', 't~t+1 CAR', 't~t+2 CAR', 't~t+3 CAR']]\n",
    "    car_df.index.name = None\n",
    "\n",
    "    #FX\n",
    "    path = 'resources/fx_table/'\n",
    "    fx_files = glob.glob(path + \"/*\")\n",
    "    for item in fx_files: fx_files[fx_files.index(item)] = item.split('/')[2]\n",
    "    fx_files.sort()\n",
    "    fx_df = pd.DataFrame()\n",
    "    for element in fx_files:\n",
    "        temp_df = pd.read_csv(f\"resources/fx_table/{element}/{element}.TW.csv\", index_col=None, header=0)\n",
    "        temp_df[[\"company_code\"]] = f\"{element}\"\n",
    "        temp_df = temp_df.loc[temp_df[\"Date\"] == date].drop([\"Unnamed: 0\", \"Date\"], axis=1)\n",
    "        temp_df = temp_df.set_index(\"company_code\")\n",
    "        fx_df = pd.concat([fx_df, temp_df])\n",
    "    fx_df = fx_df[['FX factor']]\n",
    "    fx_df.index.name = None\n",
    "\n",
    "    #import company industry\n",
    "    industry_type = pd.read_csv('resources/my_data.csv')\n",
    "    industry_type = industry_type.set_index(\"Code\")\n",
    "    industry_type.index.name = None\n",
    "    industry_type.index = industry_type.index.astype(object)\n",
    "    industry_type.index = [f'{x}' for x in industry_type.index]\n",
    "\n",
    "    #concat\n",
    "    car_fx_df = pd.concat([car_df, fx_df], axis=1).dropna()\n",
    "    car_fx_df = pd.concat([car_fx_df, industry_type], axis=1).dropna()\n",
    "\n",
    "    return car_fx_df"
   ]
  },
  {
   "attachments": {},
   "cell_type": "markdown",
   "metadata": {},
   "source": [
    "E參數"
   ]
  },
  {
   "cell_type": "code",
   "execution_count": 19,
   "metadata": {},
   "outputs": [],
   "source": [
    "def load_environmental_df(date: str) -> pd.core.frame.DataFrame:\n",
    "    path = 'resources/E參數'\n",
    "    files = glob.glob(path + \"/*.xlsx\")\n",
    "    for item in files: files[files.index(item)] = item.split('/')[2].split('.')[0]\n",
    "    df = pd.DataFrame()\n",
    "    for item in files: \n",
    "        try:\n",
    "            df[f'{item}'] = readfile(f'resources/E參數/{item}.xlsx').fillna(0).iloc[0:][[date]]\n",
    "        except KeyError:\n",
    "            print(f\"{item} occurs error\")\n",
    "    if df.empty: \n",
    "        print(\"load_environmental_df is null\")\n",
    "        return df\n",
    "    df.index = df.index.str.split().str[0].astype('int64')\n",
    "    environmental_df = df\n",
    "\n",
    "    environmental_df.index = environmental_df.index.astype(object)\n",
    "    environmental_df.index = [f'{x}' for x in environmental_df.index]\n",
    "    \n",
    "    return environmental_df"
   ]
  },
  {
   "attachments": {},
   "cell_type": "markdown",
   "metadata": {},
   "source": [
    "籌碼面"
   ]
  },
  {
   "cell_type": "code",
   "execution_count": 20,
   "metadata": {},
   "outputs": [],
   "source": [
    "def load_chip_df(date: str) -> pd.core.frame.DataFrame:\n",
    "    path = 'resources/籌碼面'\n",
    "    files = glob.glob(path + \"/*.xlsx\")\n",
    "    for item in files: files[files.index(item)] = item.split('/')[2].split('.')[0]\n",
    "    df = pd.DataFrame()\n",
    "    for item in files: \n",
    "        try:\n",
    "            df[f'{item}'] = readfile(f'resources/籌碼面/{item}.xlsx').fillna(0).iloc[0:][[date]]\n",
    "        except KeyError:\n",
    "            print(f\"{item} occurs error\")\n",
    "    if df.empty: \n",
    "        print(\"load_chip_df is null\")\n",
    "        return df\n",
    "    df.index = df.index.str.split().str[0].astype('int64')\n",
    "    chip_df = df\n",
    "\n",
    "    chip_df.index = chip_df.index.astype(object)\n",
    "    chip_df.index = [f'{x}' for x in chip_df.index]\n",
    "    \n",
    "    return chip_df"
   ]
  },
  {
   "attachments": {},
   "cell_type": "markdown",
   "metadata": {},
   "source": [
    "公司財務相關"
   ]
  },
  {
   "cell_type": "code",
   "execution_count": 21,
   "metadata": {},
   "outputs": [],
   "source": [
    "def load_financial_df(date: str) -> pd.core.frame.DataFrame:\n",
    "    path = 'resources/公司財務相關'\n",
    "    files = glob.glob(path + \"/*.xlsx\")\n",
    "    for item in files: files[files.index(item)] = item.split('/')[2].split('.')[0]\n",
    "    df = pd.DataFrame()\n",
    "    for item in files: \n",
    "        try:\n",
    "            df[f'{item}'] = readfile(f'resources/公司財務相關/{item}.xlsx').iloc[1:][[date]]\n",
    "        except KeyError:\n",
    "            print(f\"{item} occurs error\")\n",
    "    if df.empty: \n",
    "        print(\"load_financial_df is null\")\n",
    "        return df\n",
    "    df.index = df.index.str.split().str[0].astype('int64')\n",
    "    financial_df = df\n",
    "\n",
    "    financial_df.index = financial_df.index.astype(object)\n",
    "    financial_df.index = [f'{x}' for x in financial_df.index]   \n",
    "     \n",
    "    return financial_df"
   ]
  },
  {
   "attachments": {},
   "cell_type": "markdown",
   "metadata": {},
   "source": [
    "公司治理"
   ]
  },
  {
   "cell_type": "code",
   "execution_count": 22,
   "metadata": {},
   "outputs": [],
   "source": [
    "def load_governence_df(date: str) -> pd.core.frame.DataFrame:\n",
    "    path = 'resources/公司治理'\n",
    "    files = glob.glob(path + \"/*.xlsx\")\n",
    "    for item in files: files[files.index(item)] = item.split('/')[2].split('.')[0]\n",
    "    df = pd.DataFrame()\n",
    "    for item in files: \n",
    "        try:\n",
    "            df[f'{item}'] = readfile(f'resources/公司治理/{item}.xlsx').iloc[0:][[date]]\n",
    "        except KeyError:\n",
    "            print(f\"{item} occurs error\")\n",
    "    if df.empty: \n",
    "        print(\"load_governence_df is null\")\n",
    "        return df\n",
    "    df.index = df.index.str.split().str[0].astype('int64')\n",
    "    governence_df = df\n",
    "\n",
    "    governence_df.index = governence_df.index.astype(object)\n",
    "    governence_df.index = [f'{x}' for x in governence_df.index]\n",
    "\n",
    "    return governence_df"
   ]
  },
  {
   "attachments": {},
   "cell_type": "markdown",
   "metadata": {},
   "source": [
    "公司年資"
   ]
  },
  {
   "cell_type": "code",
   "execution_count": 23,
   "metadata": {},
   "outputs": [],
   "source": [
    "def load_company_age_df(date: str) -> pd.core.frame.DataFrame:\n",
    "    df = pd.DataFrame()\n",
    "    try:\n",
    "        df[\"company age\"] = readfile(f'resources/company age.xlsx').T.iloc[0:][[date]]\n",
    "    except KeyError:\n",
    "        return False\n",
    "    if df.empty: \n",
    "        print(\"load_company_age_df is null\")\n",
    "        return df\n",
    "    df.index = df.index.str.split().str[0].astype('int64')\n",
    "    company_age_df = df\n",
    "\n",
    "    company_age_df.index = company_age_df.index.astype(object)\n",
    "    company_age_df.index = [f'{x}' for x in company_age_df.index]\n",
    "\n",
    "    return company_age_df"
   ]
  },
  {
   "attachments": {},
   "cell_type": "markdown",
   "metadata": {},
   "source": [
    "控制型態"
   ]
  },
  {
   "cell_type": "code",
   "execution_count": 24,
   "metadata": {},
   "outputs": [],
   "source": [
    "def load_control_type_df(date: str) -> pd.core.frame.DataFrame:\n",
    "    df = pd.DataFrame()\n",
    "    try:\n",
    "        df[\"control type\"] = readfile(f'resources/control type.xlsx').T.iloc[0:][[date]]\n",
    "    except KeyError:\n",
    "        return False\n",
    "    if df.empty: \n",
    "        print(\"load_control_type_df is null\")\n",
    "        return df\n",
    "    df.index = df.index.str.split().str[0].astype('int64')\n",
    "    control_type_df = pd.get_dummies(df[\"control type\"], dtype=int)\n",
    "\n",
    "    control_type_df.index = control_type_df.index.astype(object)\n",
    "    control_type_df.index = [f'{x}' for x in control_type_df.index]\n",
    "    \n",
    "    return control_type_df"
   ]
  },
  {
   "attachments": {},
   "cell_type": "markdown",
   "metadata": {},
   "source": [
    "Concat All and output"
   ]
  },
  {
   "cell_type": "code",
   "execution_count": 25,
   "metadata": {},
   "outputs": [],
   "source": [
    "def concat_output(date: str):\n",
    "    car_fx_df = load_car_fx_df(date)\n",
    "    if car_fx_df.empty == True:\n",
    "        print(f\"The markets were closed on {date}\")\n",
    "        return\n",
    "    environmental_df = load_environmental_df(date)\n",
    "    chip_df = load_chip_df(date)\n",
    "    financial_df = load_financial_df(date)\n",
    "    governence_df = load_governence_df(date)\n",
    "    company_age_df = load_company_age_df(date)\n",
    "    control_type_df = load_control_type_df(date)\n",
    "    final_output = pd.DataFrame()\n",
    "    if car_fx_df.empty == False: final_output = pd.concat([final_output, car_fx_df], axis=1).dropna()\n",
    "    if environmental_df.empty == False: final_output = pd.concat([final_output, environmental_df], axis=1).dropna()\n",
    "    if chip_df.empty == False: final_output = pd.concat([final_output, chip_df], axis=1).dropna()\n",
    "    if financial_df.empty == False: final_output = pd.concat([final_output, financial_df], axis=1).dropna()\n",
    "    if governence_df.empty == False: final_output = pd.concat([final_output, governence_df], axis=1).dropna()\n",
    "    if company_age_df.empty == False: final_output = pd.concat([final_output, company_age_df], axis=1).dropna()\n",
    "    if control_type_df.empty == False: final_output = pd.concat([final_output, control_type_df], axis=1).dropna()\n",
    "    final_output.to_csv(f\"{date}.csv\")"
   ]
  },
  {
   "cell_type": "code",
   "execution_count": 26,
   "metadata": {},
   "outputs": [
    {
     "name": "stdout",
     "output_type": "stream",
     "text": [
      "Renewable energy usage rate of listed companies occurs error\n",
      "Greenhouse gas emission intensity occurs error\n",
      "load_environmental_df is null\n"
     ]
    }
   ],
   "source": [
    "concat_output(\"2019-10-01\")"
   ]
  }
 ],
 "metadata": {
  "kernelspec": {
   "display_name": "Python 3",
   "language": "python",
   "name": "python3"
  },
  "language_info": {
   "codemirror_mode": {
    "name": "ipython",
    "version": 3
   },
   "file_extension": ".py",
   "mimetype": "text/x-python",
   "name": "python",
   "nbconvert_exporter": "python",
   "pygments_lexer": "ipython3",
   "version": "3.11.2"
  },
  "orig_nbformat": 4
 },
 "nbformat": 4,
 "nbformat_minor": 2
}
